{
  "nbformat": 4,
  "nbformat_minor": 0,
  "metadata": {
    "colab": {
      "provenance": [],
      "authorship_tag": "ABX9TyOA5056QIoAcVYzj9021UQ6",
      "include_colab_link": true
    },
    "kernelspec": {
      "name": "python3",
      "display_name": "Python 3"
    },
    "language_info": {
      "name": "python"
    }
  },
  "cells": [
    {
      "cell_type": "markdown",
      "metadata": {
        "id": "view-in-github",
        "colab_type": "text"
      },
      "source": [
        "<a href=\"https://colab.research.google.com/github/alirempel/cap-comp215/blob/main/project1.ipynb\" target=\"_parent\"><img src=\"https://colab.research.google.com/assets/colab-badge.svg\" alt=\"Open In Colab\"/></a>"
      ]
    },
    {
      "cell_type": "markdown",
      "source": [
        "# 2D Circle Simulation\n",
        "### Author: Alison R\n",
        "### Date: 2024-02-05\n",
        "\n",
        "ADD DESCRIPTION OF PROJECT HEREEEEEEEEEEEEEEEEEEEEEEEEEEEEEEEEEEEEEEEEEEE"
      ],
      "metadata": {
        "id": "9fIbQuQCbEiF"
      }
    },
    {
      "cell_type": "markdown",
      "source": [
        "Below are the imported modules and the constant variables."
      ],
      "metadata": {
        "id": "TkEFleTT6XsK"
      }
    },
    {
      "cell_type": "code",
      "source": [
        "import matplotlib.pyplot as plt\n",
        "import random\n",
        "import math\n",
        "import itertools\n",
        "\n",
        "\n",
        "LEFT = -1\n",
        "RIGHT = 1\n",
        "UP = 1\n",
        "DOWN = -1"
      ],
      "metadata": {
        "id": "MbbYk--_c5u-"
      },
      "execution_count": 1,
      "outputs": []
    },
    {
      "cell_type": "markdown",
      "source": [
        "###Below are the customizable variables:\n",
        "* *window_size* is the size you would like the window of the simulation to be (must be a TUPLE containing 2 INTs)\n",
        "* *num_circles* is the number of circles you would like in the simulation (must be an INT)\n",
        "\n",
        "  **IMPORTANT NOTE: The below variables are lists, and the length must be the same as num_circles**\n",
        "* *circle_radii* is a list of the sizes of each circle's radius (each entry must be an INT)\n",
        "* *circle_positions* is a list of the starting positions for each circle (each entry must be a **TUPLE** with 2 INTs and within the window size)\n",
        "* *circle_directions* is a list containing the starting directions you want each circle to move- each entry must be a LIST containing two values:\n",
        "  * First value must be either LEFT or RIGHT (*case sensitive*)\n",
        "  * Second value must be either UP or DOWN (*also case sensitive*)\n",
        "\n"
      ],
      "metadata": {
        "id": "wFZ4IAw_6sKO"
      }
    },
    {
      "cell_type": "code",
      "source": [
        "window_size = (500,500)\n",
        "x,y = window_size\n",
        "\n",
        "num_circles = 3\n",
        "\n",
        "circle_radii = [10,5,20]\n",
        "circle_positions = [(11,489),(23,100),(300,200)]\n",
        "circle_directions = [[LEFT,UP],[RIGHT,DOWN],[LEFT,DOWN]]\n",
        "\n",
        "\n"
      ],
      "metadata": {
        "id": "PYvkFnqEl18L"
      },
      "execution_count": 52,
      "outputs": []
    },
    {
      "cell_type": "code",
      "source": [
        "\n",
        "######################################## ASK ABOUT USING OLD CLASS FROM CLASS !!!!!!!!!!!!!!!!!!!!!!!!!!!!\n",
        "\n",
        "\n",
        "\n",
        "class Circle:\n",
        "    \"\"\" Representation for the data and operations on a circle \"\"\"\n",
        "\n",
        "    def __init__(self, radius:float, centre:tuple, direction):\n",
        "      assert len(centre) == 2\n",
        "      self.radius = radius\n",
        "      self.centre = centre\n",
        "      self.direction = direction\n",
        "\n",
        "    def __str__(self):\n",
        "      \"\"\" Show the radius and position in a pretty way \"\"\"\n",
        "      return f\"\"\"Radius: {self.radius}, Position: {self.centre}\"\"\"\n",
        "\n",
        "    def move(self):\n",
        "        \"\"\" Move this circle by given (x,y) offset \"\"\"\n",
        "        self.centre = (self.centre[0] + self.direction[0], self.centre[1] + self.direction[1])\n",
        "\n",
        "    def distance(self, other):\n",
        "        \"\"\" Return the distance between this circle's centre and the other one \"\"\"\n",
        "        return math.dist(self.centre, other.centre)\n",
        "\n",
        "    def intersects(self, other):\n",
        "        \"\"\" Return True iff this circle intersects the other one \"\"\"\n",
        "        return self.radius + other.radius > self.distance(other)"
      ],
      "metadata": {
        "id": "592o8ZyidROn"
      },
      "execution_count": 32,
      "outputs": []
    },
    {
      "cell_type": "code",
      "source": [
        "# Test Circle class\n",
        "def test_circle():\n",
        "  c1 = Circle(3,(2,4))\n",
        "  c2 = Circle(2,(5,8))\n",
        "  assert c1 != c2 and c1.radius != c2.radius and c1.centre != c2.centre\n",
        "\n",
        "  assert c1.distance(c2) == c2.distance(c1)\n",
        "  assert c1.distance(c2) == 5.0\n",
        "  assert c1.intersects(c2) == False\n",
        "  c1.move((1,1))\n",
        "  assert c1.intersects(c2) == True\n",
        "\n",
        "  print('tests passed!!')\n",
        "\n",
        "test_circle()"
      ],
      "metadata": {
        "colab": {
          "base_uri": "https://localhost:8080/"
        },
        "id": "oJVX84FKhnRy",
        "outputId": "8e7a5774-6f8e-4b30-bbd5-b09845d1f690"
      },
      "execution_count": 4,
      "outputs": [
        {
          "output_type": "stream",
          "name": "stdout",
          "text": [
            "tests passed!!\n"
          ]
        }
      ]
    },
    {
      "cell_type": "code",
      "source": [
        "\n",
        "class Simulation:\n",
        "  \"\"\" Object that contains a number of circles that manages methods between the circles \"\"\"\n",
        "\n",
        "  def __init__(self,circles:list,window:tuple):\n",
        "    self.x,self.y = window\n",
        "    self.circles = circles\n",
        "    assert len(window) == 2 and type(window[0]) == int and type(window[1]) == int\n",
        "\n",
        "  def move_circles(self):\n",
        "    \"\"\" Loop through circle list and move each one\n",
        "    Switch the direction (x or y or both) of any circle that is hitting the edge of window \"\"\"\n",
        "    for circle in self.circles:\n",
        "\n",
        "      if (circle.centre[0] + circle.radius) > x and circle.direction[0] == RIGHT:\n",
        "        circle.direction[0] = LEFT\n",
        "\n",
        "      if (circle.centre[0] - circle.radius) < 0 and circle.direction[0] == LEFT:\n",
        "        circle.direction[0] = RIGHT\n",
        "\n",
        "      if (circle.centre[1] + circle.radius) > y and circle.direction[1] == UP:\n",
        "        circle.direction[1] = DOWN\n",
        "\n",
        "      if (circle.centre[1] - circle.radius) < 0 and circle.direction[1] == DOWN:\n",
        "        circle.direction[1] = UP\n",
        "\n",
        "      circle.move()\n",
        "\n",
        "      print(circle.centre) ####################### REMOVE LATER\n",
        "\n",
        "  def check_collision(self):\n",
        "    \"\"\" Loop through each unique pair of circles in circle list and check for collisions\n",
        "    If there is a collision, the directions of the circles get swapper with each other's \"\"\"\n",
        "\n",
        "    for circle_pair in itertools.combinations(self.circles,2):\n",
        "      if circle_pair[0].intersects(circle_pair[1]):\n",
        "        circle_pair[0].direction = circle_pair[1]\n",
        "        circle_pair[1].direction = circle_pair[0].direction\n",
        "\n",
        "  def run_sim(self):\n",
        "    \"\"\" Run the move_circles and check_collisions functions \"\"\"\n",
        "    count = 0                     ################# REMOVE\n",
        "    running = True\n",
        "    while running:\n",
        "      self.move_circles()\n",
        "      self.check_collision()\n",
        "\n",
        "      count += 1         ############# REMOVE FROM HERE\n",
        "      print(\"\")\n",
        "      if count > 10:            #################### TO HERE\n",
        "        running = False\n",
        "\n",
        "\n",
        "circle_list = [(Circle(rad,pos,dir)) for rad,pos,dir in zip(circle_radii,circle_positions,circle_directions)]\n",
        "\n",
        "a = Simulation(circle_list,(100,200))\n",
        "a.run_sim()"
      ],
      "metadata": {
        "id": "zbSQnjGYh5zB",
        "colab": {
          "base_uri": "https://localhost:8080/"
        },
        "outputId": "160fb76a-5d9f-4741-b4fc-21544fce3a37"
      },
      "execution_count": 54,
      "outputs": [
        {
          "output_type": "stream",
          "name": "stdout",
          "text": [
            "(12, 488)\n",
            "(24, 99)\n",
            "(299, 199)\n",
            "\n",
            "(13, 487)\n",
            "(25, 98)\n",
            "(298, 198)\n",
            "\n",
            "(14, 486)\n",
            "(26, 97)\n",
            "(297, 197)\n",
            "\n",
            "(15, 485)\n",
            "(27, 96)\n",
            "(296, 196)\n",
            "\n",
            "(16, 484)\n",
            "(28, 95)\n",
            "(295, 195)\n",
            "\n",
            "(17, 483)\n",
            "(29, 94)\n",
            "(294, 194)\n",
            "\n",
            "(18, 482)\n",
            "(30, 93)\n",
            "(293, 193)\n",
            "\n",
            "(19, 481)\n",
            "(31, 92)\n",
            "(292, 192)\n",
            "\n",
            "(20, 480)\n",
            "(32, 91)\n",
            "(291, 191)\n",
            "\n",
            "(21, 479)\n",
            "(33, 90)\n",
            "(290, 190)\n",
            "\n",
            "(22, 478)\n",
            "(34, 89)\n",
            "(289, 189)\n",
            "\n"
          ]
        }
      ]
    },
    {
      "cell_type": "code",
      "source": [
        "\n"
      ],
      "metadata": {
        "id": "FCzm9DVoq4rg"
      },
      "execution_count": 44,
      "outputs": []
    }
  ]
}