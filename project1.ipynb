{
  "nbformat": 4,
  "nbformat_minor": 0,
  "metadata": {
    "colab": {
      "provenance": [],
      "authorship_tag": "ABX9TyMJch7i45OjUYScbJtHKJCA",
      "include_colab_link": true
    },
    "kernelspec": {
      "name": "python3",
      "display_name": "Python 3"
    },
    "language_info": {
      "name": "python"
    }
  },
  "cells": [
    {
      "cell_type": "markdown",
      "metadata": {
        "id": "view-in-github",
        "colab_type": "text"
      },
      "source": [
        "<a href=\"https://colab.research.google.com/github/alirempel/cap-comp215/blob/main/project1.ipynb\" target=\"_parent\"><img src=\"https://colab.research.google.com/assets/colab-badge.svg\" alt=\"Open In Colab\"/></a>"
      ]
    },
    {
      "cell_type": "markdown",
      "source": [
        "# 2D Circle Simulation\n",
        "### Author: Alison R\n",
        "### Date: 2024-02-05\n",
        "\n",
        "ADD DESCRIPTION OF PROJECT HEREEEEEEEEEEEEEEEEEEEEEEEEEEEEEEEEEEEEEEEEEEE"
      ],
      "metadata": {
        "id": "9fIbQuQCbEiF"
      }
    },
    {
      "cell_type": "markdown",
      "source": [
        "Below are the imported modules, and brief descriptions of where they were used for the less self explanatory modules"
      ],
      "metadata": {
        "id": "TkEFleTT6XsK"
      }
    },
    {
      "cell_type": "code",
      "source": [
        "import matplotlib.pyplot as plt\n",
        "import math\n",
        "import itertools # for checking circle collisions\n",
        "import matplotlib.patches # for drawing circles\n",
        "\n",
        "# for animation method in\n",
        "import time\n",
        "from matplotlib import animation\n",
        "from IPython.display import clear_output\n",
        "\n"
      ],
      "metadata": {
        "id": "MbbYk--_c5u-"
      },
      "execution_count": 373,
      "outputs": []
    },
    {
      "cell_type": "markdown",
      "source": [
        "###Below are the customizable variables:\n",
        "* *X* is the size you would like the width of the window of the simulation to be (must be positive INT, recommended below 150 for best viewing without needing to zoom out)\n",
        "* *Y* is the size you would like the height of the window of the simulation to be (must be positive INT, recommended below 50 for best viewing without needing to zoom out)\n",
        "* *num_circles* is the number of circles you would like in the simulation (must be an INT)\n",
        "\n",
        "  **IMPORTANT NOTE: The below variables are <u>lists</u>, and the length must be the same as num_circles**\n",
        "* *circle_radii* is a list of the sizes of each circle's radius (each entry must be an INT)\n",
        "* *circle_positions* is a list of the starting positions for each circle (each entry must be a **TUPLE** with 2 INTs and within the window size)\n",
        "* *circle_directions* is a list of the circle's directions as angles (each entry must be an INT between 0 and 360)\n",
        "\n"
      ],
      "metadata": {
        "id": "wFZ4IAw_6sKO"
      }
    },
    {
      "cell_type": "code",
      "source": [
        "X = 50\n",
        "Y = 50\n",
        "\n",
        "num_circles = 3\n",
        "\n",
        "circle_radii = [5,5,5]\n",
        "circle_positions = [(45,40),(30,10),(30,20)]\n",
        "circle_directions = [45,90,270]\n",
        "interval = .1"
      ],
      "metadata": {
        "id": "PYvkFnqEl18L"
      },
      "execution_count": 374,
      "outputs": []
    },
    {
      "cell_type": "code",
      "source": [
        "\n",
        "class Circle:\n",
        "    \"\"\" Representation for the data and operations on a circle \"\"\"\n",
        "\n",
        "    def __init__(self, radius:float, centre:tuple, direction:int):\n",
        "      assert len(centre) == 2\n",
        "      self.radius = radius\n",
        "      self.centre = centre\n",
        "      self.direction = direction # angle its heading (degs)\n",
        "      self.x = round(math.cos(math.radians(direction)),2) # how much to move in the x axis each step\n",
        "      self.y = round(math.sin(math.radians(direction)),2) # how much to move in the y axis each step\n",
        "\n",
        "    def __str__(self):\n",
        "      \"\"\" Show the radius and position in a pretty way\n",
        "      Mostly for testing in early stages \"\"\"\n",
        "      return f\"\"\"Radius: {self.radius}, Position: {self.centre}\"\"\"\n",
        "\n",
        "    def move(self):\n",
        "        \"\"\" Move the circle according to current direction \"\"\"\n",
        "        x_step = round(math.cos(math.radians(self.direction)),2) # how much to move in the x axis each step\n",
        "        y_step = round(math.sin(math.radians(self.direction)),2) # how much to move in the y axis each step\n",
        "        self.centre = (self.centre[0] + x_step, self.centre[1] + y_step)\n",
        "\n",
        "\n",
        "    def distance(self, other):\n",
        "        \"\"\" Return the distance between this circle's centre and the other one \"\"\"\n",
        "        return math.dist(self.centre, other.centre)\n",
        "\n",
        "    def intersects(self, other):\n",
        "        \"\"\" Return True iff this circle intersects the other one \"\"\"\n",
        "        return self.radius + other.radius > self.distance(other)\n"
      ],
      "metadata": {
        "id": "592o8ZyidROn"
      },
      "execution_count": 375,
      "outputs": []
    },
    {
      "cell_type": "code",
      "source": [
        "# Test Circle class\n",
        "def test_circle():\n",
        "  c1 = Circle(3,(2,4),0)\n",
        "  c2 = Circle(2,(5,8),30)\n",
        "  c3 = Circle(10,(100,10),270)\n",
        "\n",
        "  assert c1 != c2 and c1.radius != c2.radius and c1.centre != c2.centre\n",
        "  assert c1.distance(c2) == c2.distance(c1)\n",
        "  assert c1.distance(c2) == 5.0\n",
        "  assert c1.intersects(c2) == False\n",
        "  assert c1.centre == (2,4)\n",
        "  c1.move()\n",
        "  assert c1.centre == (3.0,4.0)\n",
        "  assert c1.intersects(c2) == True\n",
        "\n",
        "\n",
        "\n",
        "  print('tests passed!!')\n",
        "\n",
        "test_circle()"
      ],
      "metadata": {
        "colab": {
          "base_uri": "https://localhost:8080/"
        },
        "id": "oJVX84FKhnRy",
        "outputId": "dddc80b7-9a6a-405e-dc90-f11dff735e78"
      },
      "execution_count": 376,
      "outputs": [
        {
          "output_type": "stream",
          "name": "stdout",
          "text": [
            "tests passed!!\n"
          ]
        }
      ]
    },
    {
      "cell_type": "code",
      "source": [
        "\n",
        "class Simulation:\n",
        "  \"\"\" Object that contains a number of circles that manages methods between the circles \"\"\"\n",
        "\n",
        "  def __init__(self,circles:list):\n",
        "    self.circles = circles\n",
        "\n",
        "  def move_circles(self):\n",
        "    \"\"\" Loop through circle list and move each one\n",
        "    Flip the direction (x or y or both) of any circle that is hitting the edge of window \"\"\"\n",
        "    for circle in self.circles:\n",
        "\n",
        "      if (circle.centre[0] + circle.radius) > X and (circle.direction < 90 or circle.direction > 270):  # hitting right\n",
        "        circle.direction = (circle.direction + 180)%360\n",
        "\n",
        "      if (circle.centre[0] - circle.radius) < 0 and circle.direction > 90 and circle.direction < 270: # hitting left\n",
        "        circle.direction = (circle.direction + 180)%360\n",
        "\n",
        "      if (circle.centre[1] + circle.radius) > Y and circle.direction < 180:\n",
        "        circle.direction = (circle.direction + 180)%360\n",
        "\n",
        "      if (circle.centre[1] - circle.radius) < 0 and circle.direction > 180 and circle.direction < 360:\n",
        "        circle.direction = (circle.direction + 180)%360\n",
        "\n",
        "      circle.move()\n",
        "\n",
        "\n",
        "  def check_collision(self):\n",
        "    \"\"\" Loop through each unique pair of circles in circle list and check for collisions\n",
        "    If there is a collision, the directions of the circles get swapped with each other's \"\"\"\n",
        "\n",
        "    for circle1,circle2 in itertools.combinations(self.circles,2):\n",
        "\n",
        "      if circle1.intersects(circle2):\n",
        "        old_c1_dir, old_c2_dir = circle1.direction,circle2.direction\n",
        "        circle1.direction = old_c2_dir\n",
        "        circle2.direction = old_c1_dir\n",
        "\n",
        "        # while circle1.intersects(circle2):\n",
        "        #   circle1.move()\n",
        "        #   circle2.move()\n",
        "\n",
        "  def step(self):\n",
        "    \"\"\" Run the move_circles and check_collisions function \"\"\"\n",
        "    self.move_circles()\n",
        "    self.check_collision()\n",
        "\n",
        "  def draw(self,axes):\n",
        "    \"\"\" Draw the current state of the simulation\n",
        "    I figured out how to add the circles from this website:\n",
        "    https://saturncloud.io/blog/how-to-draw-a-circle-with-matplotlibpyplot-a-guide-for-data-scientists/ \"\"\"\n",
        "\n",
        "    #fig = plt.figure()\n",
        "    axes = plt.axes(xlim =(0, X), ylim = (0,Y)) or plt.gca()\n",
        "\n",
        "    plot_circles = [axes.add_patch(matplotlib.patches.Circle(circle.centre, circle.radius) ) for circle in self.circles]\n",
        "    axes.set_aspect('equal')\n",
        "\n",
        "    axes.set_xticks([]) # hide x tick marks\n",
        "    axes.set_yticks([]) # hide y tick marks\n",
        "    axes.set(title= \"Circle Collision Simulator!\")\n",
        "    plt.show()\n"
      ],
      "metadata": {
        "id": "zbSQnjGYh5zB"
      },
      "execution_count": 377,
      "outputs": []
    },
    {
      "cell_type": "code",
      "source": [
        "class Animation2D:\n",
        "    \"\"\"\n",
        "      Animates any 2D model with a step() method and a draw() method, using matplotlib\n",
        "\n",
        "      See https://www.allendowney.com/blog/2019/07/25/matplotlib-animation-in-jupyter/\n",
        "          for a discussion of the pros and cons of various animation techniques in jupyter notebooks\n",
        "    \"\"\"\n",
        "\n",
        "    def __init__(self, model:Simulation, frames=50, steps_per_frame=1, figsize=(X, Y)):\n",
        "        \"\"\"\n",
        "        :param model: the simulation object to animate, with step() and draw(axes, step) methods\n",
        "        :param frames: number of animation frames to generate\n",
        "        \"\"\"\n",
        "        self.model = model\n",
        "        self.frames = frames\n",
        "        self.steps_per_frame = steps_per_frame\n",
        "        self.fig, self.ax = plt.subplots(figsize=(X/10,Y/10)) # Make the subplot axes the same size as the image's axes\n",
        "        plt.tick_params(left = False, right = False , labelleft = False , labelbottom = False, bottom = False)  # hide the tick marks and labels\n",
        "\n",
        "\n",
        "    def animation_step(self, step):\n",
        "        \"\"\" Step the model forward and draw the plot \"\"\"\n",
        "        if step > 0:\n",
        "            for _ in range(self.steps_per_frame):\n",
        "                self.model.step()\n",
        "        self.model.draw(self.ax) # step=step * self.steps_per_frame\n",
        "\n",
        "    def show(self):\n",
        "        \"\"\" return the matplotlib animation object, ready for display \"\"\"\n",
        "        anim = animation.FuncAnimation(self.fig, self.animation_step, frames=self.frames)\n",
        "        plt.close()  # this ensures the last frame is not shown as a separate plot\n",
        "        return anim\n",
        "\n",
        "    def animate(self, interval=None):\n",
        "        \"\"\" Animate the model simulation directly in the notebook display block \"\"\"\n",
        "        try:\n",
        "            for i in range(self.frames):\n",
        "                clear_output(wait=True)  # clear the IPython display\n",
        "                self.ax.clear()  # clear old image from the axes (fixes a performance issue)\n",
        "                plt.figure(self.fig) # add the figure back to pyplot ** sigh **\n",
        "                self.animation_step(i)\n",
        "                plt.show()  # show the current animation frame (pyplot then closes and throws away figure ** sigh **)\n",
        "                if interval:\n",
        "                    time.sleep(interval)\n",
        "        except KeyboardInterrupt:\n",
        "            pass"
      ],
      "metadata": {
        "id": "0LE9n5Y0vF-e"
      },
      "execution_count": 378,
      "outputs": []
    },
    {
      "cell_type": "code",
      "source": [
        "# create a list for the input to Simulation class\n",
        "circle_list = [(Circle(rad,pos,dir)) for rad,pos,dir in zip(circle_radii,circle_positions,circle_directions)]\n",
        "# create a simulation object for the Animation2D class\n",
        "sim = Simulation(circle_list)\n",
        "\n",
        "\n",
        "anim = Animation2D(sim).animate(interval=interval)"
      ],
      "metadata": {
        "id": "4DxcwgEIFr3f",
        "outputId": "ae0ce331-247d-42bb-a390-f460fa6829ea",
        "colab": {
          "base_uri": "https://localhost:8080/",
          "height": 444
        }
      },
      "execution_count": 379,
      "outputs": [
        {
          "output_type": "display_data",
          "data": {
            "text/plain": [
              "<Figure size 500x500 with 33 Axes>"
            ],
            "image/png": "[encoded data removed]"
          },
          "metadata": {}
        }
      ]
    }
  ]
}