{
  "nbformat": 4,
  "nbformat_minor": 0,
  "metadata": {
    "colab": {
      "provenance": [],
      "authorship_tag": "ABX9TyPCTPMVvzRItpoVopuom+Qm",
      "include_colab_link": true
    },
    "kernelspec": {
      "name": "python3",
      "display_name": "Python 3"
    },
    "language_info": {
      "name": "python"
    }
  },
  "cells": [
    {
      "cell_type": "markdown",
      "metadata": {
        "id": "view-in-github",
        "colab_type": "text"
      },
      "source": [
        "<a href=\"https://colab.research.google.com/github/alirempel/cap-comp215/blob/main/project1.ipynb\" target=\"_parent\"><img src=\"https://colab.research.google.com/assets/colab-badge.svg\" alt=\"Open In Colab\"/></a>"
      ]
    },
    {
      "cell_type": "markdown",
      "source": [
        "# 2D Circle Simulation\n",
        "###*Circle Battle Royale*\n",
        "###A customizable simulation of circles colliding made using matplotlib. Circles collide, and bigger circles absorb smaller circles until time runs out.\n",
        "\n",
        " Author: Alison Rempel\n",
        "\n",
        " Date: 2024-02-05\n",
        "\n",
        "\n",
        "---\n",
        "\n",
        "\n",
        "\n",
        "###Credits:\n",
        "\n",
        "https://github.com/alirempel/cap-comp215/blob/main/lessons/algorithms/06-animation-2d.ipynb for the base of the CircleAnimation class\n",
        "\n",
        "https://saturncloud.io/blog/how-to-draw-a-circle-with-matplotlibpyplot-a-guide-for-data-scientists/  for how to add circles to a matplotlib plot\n",
        "\n",
        "https://github.com/alirempel/cap-comp215/blob/main/lessons/week03-objects.ipynb for the base of the circle class\n",
        "\n",
        "\n",
        "---\n",
        "\n",
        "\n"
      ],
      "metadata": {
        "id": "9fIbQuQCbEiF"
      }
    },
    {
      "cell_type": "markdown",
      "source": [
        "Below are the imported modules and brief descriptions of where they were used (for the non self explanatory modules)"
      ],
      "metadata": {
        "id": "TkEFleTT6XsK"
      }
    },
    {
      "cell_type": "code",
      "source": [
        "import matplotlib.pyplot as plt\n",
        "import math\n",
        "import itertools # for checking circle collisions\n",
        "import matplotlib.patches # for drawing circles in Simulation's draw method\n",
        "\n",
        "# for CircleAnimation class\n",
        "import time\n",
        "from matplotlib import animation\n",
        "from IPython.display import clear_output"
      ],
      "metadata": {
        "id": "MbbYk--_c5u-"
      },
      "execution_count": 3,
      "outputs": []
    },
    {
      "cell_type": "markdown",
      "source": [
        "##Customizable variables:\n",
        "* *X* is the size you would like the width of the window of the simulation to be (must be positive INT, recommended below 150 if you don't want to zoom out)\n",
        "* *Y* is the size you would like the height of the window of the simulation to be (must be positive INT, recommended below 50 if you don't want to zoom out)\n",
        "* *interval* is the time in seconds for how fast you want the animation to complete a step (must be FLOAT or INT >= 0)\n",
        "* *battle_time* is how long you want the circles to battle it out for (measured in amount of frames and must be INT >= 0)\n",
        "\n",
        "\n",
        "  **IMPORTANT NOTE: The below variables are <u>lists</u>, and the lengths must be the same**\n",
        "* *circle_radii* is a LIST of the sizes of each circle's radius (each entry must be an INT)\n",
        "* *circle_positions* is a LIST of the starting positions for each circle (each entry must be a **TUPLE** with 2 INTs and within the window size)\n",
        "* *circle_directions* is a LIST of the circle's directions as angles (each entry must be an INT)\n"
      ],
      "metadata": {
        "id": "wFZ4IAw_6sKO"
      }
    },
    {
      "cell_type": "code",
      "source": [
        "X = 50\n",
        "Y = 50\n",
        "interval = 0.1\n",
        "battle_time = 45\n",
        "\n",
        "circle_radii = [3,4,2,1]\n",
        "circle_positions = [(10,10),(40,10),(10,40),(40,40)]\n",
        "circle_directions = [225,315,135,45]"
      ],
      "metadata": {
        "id": "PYvkFnqEl18L"
      },
      "execution_count": 36,
      "outputs": []
    },
    {
      "cell_type": "markdown",
      "source": [
        "Run to see if you followed the instructions right! If there's an error, better read them again."
      ],
      "metadata": {
        "id": "P029n2xlRkfF"
      }
    },
    {
      "cell_type": "code",
      "source": [
        "assert type(X) == int and type(Y) == int and X > 0 and Y > 0\n",
        "assert (type(interval) == float or type(interval) == int) and interval >= 0\n",
        "assert type(battle_time) == int and battle_time > 0\n",
        "\n",
        "assert type(circle_radii) == list and type (circle_positions) == list and type(circle_directions) == list\n",
        "# ^ check circle_radii, circle_directions and circle_postions are lists\n",
        "assert len(circle_radii) == len(circle_positions) == len(circle_directions) and len(circle_radii) > 0\n",
        "# ^ check lists are same size\n",
        "\n",
        "assert [type(circle_directions[i]) == int and type(circle_radii[i]) == int and circle_radii[i] >= 0 for i in range(len(circle_radii))]\n",
        "# ^ check type of entries in circle_directions and circle_radii\n",
        "assert [type(circle_positions[i]) == tuple and len(circle_positions[1]) == 2 and type(circle_positions[i][0]) == int and type(circle_positions[i][1]) == int for i in range(len(circle_positions))]\n",
        "# ^ check type and length of circle_postions and its tuples\n",
        "assert [circle_positions[i][0] > 0 and circle_positions[i][0] < X and circle_positions[i][1] > 0 and circle_positions[i][1] < Y for i in range(len(circle_positions))]\n",
        "# ^ check circle_positions are in window\n",
        "\n",
        "print('You are good to go!')"
      ],
      "metadata": {
        "colab": {
          "base_uri": "https://localhost:8080/"
        },
        "id": "W1xrQKFiRtxa",
        "outputId": "4648c026-81c0-4a01-9e5a-9a166a6b18a4"
      },
      "execution_count": 30,
      "outputs": [
        {
          "output_type": "stream",
          "name": "stdout",
          "text": [
            "You are good to go!\n"
          ]
        }
      ]
    },
    {
      "cell_type": "markdown",
      "source": [
        "## Circle Class\n",
        "The Circle class represents one circle in the simulation. It's parameters are the circle's radius (float), the circle's starting centre position (two length tuple of ints), and the angular direction its going to go (int).\n",
        "\n",
        "Its methods are...\n",
        "* __move__: takes no inputs. It moves the circle one step in the direction specified using trig.\n",
        "* __distance__: takes another Circle object as input and calculates the distance between the two.\n",
        "* __intersects__: takes another circle as input and uses distance method to check if the circles are intersecting\n",
        "* __check_edge__: takes no inputs and checks if any part of the circle is outside of the window and changes the direction if so."
      ],
      "metadata": {
        "id": "RwdG1e2xqzXb"
      }
    },
    {
      "cell_type": "code",
      "source": [
        "\n",
        "class Circle:\n",
        "    \"\"\" Representation for the data and operations on a circle \"\"\"\n",
        "\n",
        "    def __init__(self, radius:float, centre:tuple, direction:int):\n",
        "      assert len(centre) == 2\n",
        "      self.radius = radius\n",
        "      self.centre = centre\n",
        "      self.direction = direction # angle its heading (degs)\n",
        "      self.x = round(math.cos(math.radians(direction)),2) # how much to move in the x axis each step\n",
        "      self.y = round(math.sin(math.radians(direction)),2) # how much to move in the y axis each step\n",
        "\n",
        "    def move(self):\n",
        "        \"\"\" Move the circle according to current direction \"\"\"\n",
        "        x_step = round(math.cos(math.radians(self.direction)),2) # how much to move in the x axis each step\n",
        "        y_step = round(math.sin(math.radians(self.direction)),2) # how much to move in the y axis each step\n",
        "        self.centre = (self.centre[0] + x_step, self.centre[1] + y_step)\n",
        "\n",
        "\n",
        "    def distance(self, other):\n",
        "        \"\"\" Return the distance between this circle's centre and the other one \"\"\"\n",
        "        return math.dist(self.centre, other.centre)\n",
        "\n",
        "    def intersects(self, other):\n",
        "        \"\"\" Return True iff this circle intersects the other one \"\"\"\n",
        "        return self.radius + other.radius > self.distance(other)\n",
        "\n",
        "    def check_edge(self):\n",
        "      \"\"\" If Circle is at edge of window, change direction \"\"\"\n",
        "      at_top_edge = (self.centre[1] + self.radius) > Y and self.direction < 180\n",
        "      at_bottom_edge = (self.centre[1] - self.radius) < 0 and self.direction > 180 and self.direction < 360\n",
        "      at_left_edge = (self.centre[0] - self.radius) < 0 and self.direction > 90 and self.direction < 270\n",
        "      at_right_edge = (self.centre[0] + self.radius) > X and (self.direction < 90 or self.direction > 270)\n",
        "\n",
        "      if at_right_edge:\n",
        "        self.direction = 180 - self.direction\n",
        "\n",
        "      elif at_left_edge:\n",
        "        self.direction = 180 - self.direction\n",
        "\n",
        "      if at_top_edge:\n",
        "        self.direction = 360 - self.direction\n",
        "\n",
        "      elif at_bottom_edge:\n",
        "        self.direction = 360 - self.direction\n"
      ],
      "metadata": {
        "id": "592o8ZyidROn"
      },
      "execution_count": 31,
      "outputs": []
    },
    {
      "cell_type": "markdown",
      "source": [
        "### Some tests for the Circle class..."
      ],
      "metadata": {
        "id": "ZToBenDUs7EO"
      }
    },
    {
      "cell_type": "code",
      "source": [
        "# Test Circle class\n",
        "def test_circle():\n",
        "  c1 = Circle(3,(2,4),0)\n",
        "  c2 = Circle(2,(5,8),30)\n",
        "  c3 = Circle(10,(100,10),270)\n",
        "\n",
        "  assert c1 != c2 and c1.radius != c2.radius and c1.centre != c2.centre\n",
        "  assert c1.distance(c2) == c2.distance(c1)\n",
        "  assert c1.distance(c2) == 5.0\n",
        "  assert c1.intersects(c2) == False\n",
        "  assert c1.centre == (2,4)\n",
        "  c1.move()\n",
        "  assert c1.centre == (3.0,4.0)\n",
        "  assert c1.intersects(c2) == True\n",
        "  assert c3.direction == 270\n",
        "\n",
        "  print('Tests passed :D')\n",
        "\n",
        "test_circle()"
      ],
      "metadata": {
        "colab": {
          "base_uri": "https://localhost:8080/"
        },
        "id": "oJVX84FKhnRy",
        "outputId": "6c7f20a9-6974-415f-e170-d580f5e40b70"
      },
      "execution_count": 38,
      "outputs": [
        {
          "output_type": "stream",
          "name": "stdout",
          "text": [
            "Tests passed :D\n"
          ]
        }
      ]
    },
    {
      "cell_type": "markdown",
      "source": [
        "## Simulation Class\n",
        "The Simulation class takes a list of Circle objects and performs the operations that allow them to interact.\n",
        "\n",
        "Its methods are...\n",
        "* __check_collision__: takes no inputs. It finds every possible pair of circles in the list of circles using itertools.combinations and loops through them and uses the circle's intersect method to check for collisions and eliminates the smaller circle and the bigger circle gains the radius of the smaller one.\n",
        "* __step__: takes no inputs. It loops through the list of circles and moves each one using the circles move method. It also then checks for collisions with the circles using the check_collision method and collisions with walls using the check_edge method.\n",
        "* __draw__: takes a set of axes from matplotlib and plots the circles on them. Its essentially one frame of the animation."
      ],
      "metadata": {
        "id": "Zi3jmfcvtFTf"
      }
    },
    {
      "cell_type": "code",
      "source": [
        "\n",
        "class Simulation:\n",
        "  \"\"\" Object that contains a number of circles that manages methods between the circles \"\"\"\n",
        "\n",
        "  def __init__(self,circles:list):\n",
        "    self.circles = circles\n",
        "\n",
        "  def check_collision(self):\n",
        "    \"\"\" Loop through each unique pair of circles in circle list and check for collisions\n",
        "    If there is a collision, the bigger circle gains the radius of the smaller one and the smaller one disappears \"\"\"\n",
        "\n",
        "    for circle1,circle2 in itertools.combinations(self.circles,2):\n",
        "\n",
        "      if circle1.intersects(circle2):\n",
        "\n",
        "        if circle1.radius < circle2.radius:\n",
        "          circle2.radius += circle1.radius\n",
        "          circle1.radius = 0\n",
        "\n",
        "        else:\n",
        "          circle1.radius += circle2.radius\n",
        "          circle2.radius = 0\n",
        "\n",
        "\n",
        "  def step(self):\n",
        "    \"\"\" Loop through circle list and move each one while checking for collisions \"\"\"\n",
        "\n",
        "    for circle in self.circles:\n",
        "\n",
        "      self.check_collision()\n",
        "      circle.check_edge()\n",
        "      circle.move()\n",
        "\n",
        "  def draw(self,axes):\n",
        "    \"\"\" Draw the current state of the simulation\n",
        "    I figured out how to add the circles from this website:\n",
        "    https://saturncloud.io/blog/how-to-draw-a-circle-with-matplotlibpyplot-a-guide-for-data-scientists/ \"\"\"\n",
        "\n",
        "    axes = plt.axes(xlim =(0, X), ylim = (0,Y)) or plt.gca()\n",
        "\n",
        "    plot_circles = [axes.add_patch(matplotlib.patches.Circle(circle.centre, circle.radius) ) for circle in self.circles]\n",
        "    axes.set_aspect('equal')\n",
        "\n",
        "    axes.set_xticks([]) # hide x tick marks\n",
        "    axes.set_yticks([]) # hide y tick marks\n",
        "    axes.set(title= \"Circle Battle Royale!\")\n",
        "    plt.show()\n"
      ],
      "metadata": {
        "id": "zbSQnjGYh5zB"
      },
      "execution_count": 33,
      "outputs": []
    },
    {
      "cell_type": "markdown",
      "source": [
        "##CircleAnimation Class\n",
        "The CircleAnimation class animates the Simulation object using its step and draw methods. Its parameters are a Simulation object and the number of frames, and optinally, it can take the amount of steps done in each frame and the size of the animation.\n",
        "\n",
        "Its methods are...\n",
        "* __animation_step__: Draws one frame for the animation using the Simulation objects's step and draw methods\n",
        "* __animate__: Loop through the amount of frames given and wipe the screen then draw image again until the loop is done. If there is an interval given, it will wait that long in between each frame."
      ],
      "metadata": {
        "id": "oZy4UTBLvu7t"
      }
    },
    {
      "cell_type": "code",
      "source": [
        "class CircleAnimation:\n",
        "    \"\"\"\n",
        "      Representation of an animation of a Simulation object using matplotlib\n",
        "    \"\"\"\n",
        "\n",
        "    def __init__(self, model:Simulation, frames, steps_per_frame=1, figsize=(X/10,Y/10)):\n",
        "        self.model = model\n",
        "        self.frames = frames\n",
        "        self.steps_per_frame = steps_per_frame\n",
        "        self.fig, self.ax = plt.subplots(figsize=figsize) # make the subplot and then make axes the same size as the image's axes\n",
        "        plt.tick_params(left = False, right = False , labelleft = False , labelbottom = False , bottom = False)  # hide the tick marks and labels\n",
        "        plt.title(f'{range(self.frames,0,-1)}', loc='right')\n",
        "        self.ax.title.set_text(f'{range(self.frames,0,-1)}')\n",
        "\n",
        "\n",
        "    def animation_step(self, step):\n",
        "        \"\"\" Step the model forward and draw the plot \"\"\"\n",
        "        if step > 0:\n",
        "            for _ in range(self.steps_per_frame):\n",
        "                self.model.step()\n",
        "        self.model.draw(self.ax)\n",
        "\n",
        "\n",
        "    def animate(self, interval):\n",
        "        \"\"\" Animate the model simulation directly in the notebook display block \"\"\"\n",
        "        try:\n",
        "            for i in range(self.frames+1):\n",
        "                clear_output(wait=True)  # clear the IPython display\n",
        "                self.ax.clear()  # clear old image from the axes (fixes a performance issue)\n",
        "                plt.figure(self.fig) # add the figure back to pyplot\n",
        "                self.ax.set_title(f'{self.frames-i}',loc=\"right\")\n",
        "                self.animation_step(i)\n",
        "                plt.show()  # show the current animation frame (pyplot then closes and throws away figure)\n",
        "                if interval:\n",
        "                    time.sleep(interval)\n",
        "        except KeyboardInterrupt:\n",
        "            pass"
      ],
      "metadata": {
        "id": "0LE9n5Y0vF-e"
      },
      "execution_count": 44,
      "outputs": []
    },
    {
      "cell_type": "markdown",
      "source": [
        "## Time to run the animation!!\n"
      ],
      "metadata": {
        "id": "2oNklqJ6yzbh"
      }
    },
    {
      "cell_type": "code",
      "source": [
        "circle_list = [(Circle(rad,pos,dir)) for rad,pos,dir in zip(circle_radii,circle_positions,circle_directions)] # create a list of Circle objects to input in Simulation object\n",
        "\n",
        "sim = Simulation(circle_list) # create a Simulation object for the CircleAnimation object\n",
        "\n",
        "CircleAnimation(sim,battle_time).animate(interval)  # run the animation finally!!!"
      ],
      "metadata": {
        "colab": {
          "base_uri": "https://localhost:8080/",
          "height": 444
        },
        "id": "4DxcwgEIFr3f",
        "outputId": "929d1db5-5155-4a60-ac32-9c6e55c70b12"
      },
      "execution_count": 46,
      "outputs": [
        {
          "output_type": "display_data",
          "data": {
            "text/plain": [
              "<Figure size 500x500 with 47 Axes>"
            ],
            "image/png": "[encoded data removed]"
          },
          "metadata": {}
        }
      ]
    }
  ]
}