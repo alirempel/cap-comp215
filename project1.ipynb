{
  "nbformat": 4,
  "nbformat_minor": 0,
  "metadata": {
    "colab": {
      "provenance": [],
      "authorship_tag": "ABX9TyO6rn0VVBEF/ZHd1bc7YKuA",
      "include_colab_link": true
    },
    "kernelspec": {
      "name": "python3",
      "display_name": "Python 3"
    },
    "language_info": {
      "name": "python"
    }
  },
  "cells": [
    {
      "cell_type": "markdown",
      "metadata": {
        "id": "view-in-github",
        "colab_type": "text"
      },
      "source": [
        "<a href=\"https://colab.research.google.com/github/alirempel/cap-comp215/blob/main/project1.ipynb\" target=\"_parent\"><img src=\"https://colab.research.google.com/assets/colab-badge.svg\" alt=\"Open In Colab\"/></a>"
      ]
    },
    {
      "cell_type": "markdown",
      "source": [
        "# 2D Circle Simulation\n",
        "### Author: Alison R\n",
        "### Date: 2024-02-05\n",
        "\n",
        "ADD DESCRIPTION OF PROJECT HEREEEEEEEEEEEEEEEEEEEEEEEEEEEEEEEEEEEEEEEEEEE"
      ],
      "metadata": {
        "id": "9fIbQuQCbEiF"
      }
    },
    {
      "cell_type": "code",
      "source": [
        "import matplotlib.pyplot as plt\n",
        "import random\n",
        "import math"
      ],
      "metadata": {
        "id": "MbbYk--_c5u-"
      },
      "execution_count": 2,
      "outputs": []
    },
    {
      "cell_type": "markdown",
      "source": [
        "### ASK ABOUT USING OLD STUFF"
      ],
      "metadata": {
        "id": "Wxs89jhSdp1M"
      }
    },
    {
      "cell_type": "code",
      "source": [
        "class Circle:\n",
        "    \"\"\" Representation for the data and operations on a circle \"\"\"\n",
        "\n",
        "    def __init__(self, radius:float, centre:tuple):\n",
        "      assert len(centre) == 2\n",
        "      self.radius = radius\n",
        "      self.centre = centre\n",
        "\n",
        "    def area(self):\n",
        "        \"\"\" Return the area of this circle \"\"\"\n",
        "        return math.pi * self.radius**2\n",
        "\n",
        "    def move(self, offset:tuple):\n",
        "        \"\"\" Move this circle by given (x,y) offset \"\"\"\n",
        "        self.centre = (self.centre[0] + offset[0], self.centre[1] + offset[1])\n",
        "\n",
        "    def distance(self, other):\n",
        "        \"\"\" Return the distance between this circle's centre and the other one \"\"\"\n",
        "        return math.dist(self.centre, other.centre)\n",
        "\n",
        "    def intersects(self, other):\n",
        "        \"\"\" Return True iff this circle intersects the other one \"\"\"\n",
        "        return self.radius + other.radius > self.distance(other)"
      ],
      "metadata": {
        "id": "592o8ZyidROn"
      },
      "execution_count": 6,
      "outputs": []
    },
    {
      "cell_type": "code",
      "source": [
        "# Test Circle class\n",
        "def test_circle():\n",
        "  c1 = Circle(3,(2,4))\n",
        "  c2 = Circle(2,(5,8))\n",
        "  assert c1 != c2 and c1.radius != c2.radius and c1.centre != c2.centre\n",
        "\n",
        "  assert c1.area() == 9 * math.pi\n",
        "  assert c1.distance(c2) == c2.distance(c1)\n",
        "  assert c1.distance(c2) == 5.0\n",
        "  assert c1.intersects(c2) == False\n",
        "  c1.move((1,1))\n",
        "  assert c1.intersects(c2) == True\n",
        "\n",
        "  print('tests passed!!')\n",
        "\n",
        "test_circle()"
      ],
      "metadata": {
        "colab": {
          "base_uri": "https://localhost:8080/"
        },
        "id": "oJVX84FKhnRy",
        "outputId": "3ce5fe8f-78c2-4c6f-fd76-9e965ee9c165"
      },
      "execution_count": 7,
      "outputs": [
        {
          "output_type": "stream",
          "name": "stdout",
          "text": [
            "tests passed!!\n"
          ]
        }
      ]
    }
  ]
}