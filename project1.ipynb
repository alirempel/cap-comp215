{
  "nbformat": 4,
  "nbformat_minor": 0,
  "metadata": {
    "colab": {
      "provenance": [],
      "authorship_tag": "ABX9TyMNVvoPVczj9rFeah8lgjJS",
      "include_colab_link": true
    },
    "kernelspec": {
      "name": "python3",
      "display_name": "Python 3"
    },
    "language_info": {
      "name": "python"
    }
  },
  "cells": [
    {
      "cell_type": "markdown",
      "metadata": {
        "id": "view-in-github",
        "colab_type": "text"
      },
      "source": [
        "<a href=\"https://colab.research.google.com/github/alirempel/cap-comp215/blob/main/project1.ipynb\" target=\"_parent\"><img src=\"https://colab.research.google.com/assets/colab-badge.svg\" alt=\"Open In Colab\"/></a>"
      ]
    },
    {
      "cell_type": "markdown",
      "source": [
        "# 2D Circle Simulation\n",
        "### Author: Alison R\n",
        "### Date: 2024-02-05\n",
        "\n",
        "ADD DESCRIPTION OF PROJECT HEREEEEEEEEEEEEEEEEEEEEEEEEEEEEEEEEEEEEEEEEEEE"
      ],
      "metadata": {
        "id": "9fIbQuQCbEiF"
      }
    },
    {
      "cell_type": "markdown",
      "source": [
        "Below are the imported modules and the constant variables."
      ],
      "metadata": {
        "id": "TkEFleTT6XsK"
      }
    },
    {
      "cell_type": "code",
      "source": [
        "import matplotlib.pyplot as plt\n",
        "import random\n",
        "import math\n",
        "import itertools\n",
        "\n",
        "\n",
        "LEFT = -1\n",
        "RIGHT = 1\n",
        "UP = 1\n",
        "DOWN = -1"
      ],
      "metadata": {
        "id": "MbbYk--_c5u-"
      },
      "execution_count": 46,
      "outputs": []
    },
    {
      "cell_type": "markdown",
      "source": [
        "###Below are the customizable variables:\n",
        "* *window_size* is the size you would like the window of the simulation to be (must be a TUPLE containing 2 INTs)\n",
        "* *num_circles* is the number of circles you would like in the simulation (must be an INT)\n",
        "\n",
        "  **IMPORTANT NOTE: The below variables are <u>lists</u>, and the length must be the same as num_circles**\n",
        "* *circle_radii* is a list of the sizes of each circle's radius (each entry must be an INT)\n",
        "* *circle_positions* is a list of the starting positions for each circle (each entry must be a **TUPLE** with 2 INTs and within the window size)\n",
        "* *circle_directions* is a list of the circle's directions as angles (each entry must be an INT between 0 and 360)\n",
        "\n"
      ],
      "metadata": {
        "id": "wFZ4IAw_6sKO"
      }
    },
    {
      "cell_type": "code",
      "source": [
        "window_size = (500,500)\n",
        "X,Y = window_size\n",
        "\n",
        "num_circles = 3\n",
        "\n",
        "circle_radii = [10,5,20]\n",
        "circle_positions = [(11,489),(23,100),(300,200)]\n",
        "circle_directions = [45,360,80]\n"
      ],
      "metadata": {
        "id": "PYvkFnqEl18L"
      },
      "execution_count": 54,
      "outputs": []
    },
    {
      "cell_type": "code",
      "source": [
        "\n",
        "class Circle:\n",
        "    \"\"\" Representation for the data and operations on a circle \"\"\"\n",
        "\n",
        "    def __init__(self, radius:float, centre:tuple, direction:int):\n",
        "      assert len(centre) == 2\n",
        "      self.radius = radius\n",
        "      self.centre = centre\n",
        "      self.direction = direction\n",
        "      self.x = round(math.cos(math.radians(direction)),2)\n",
        "      self.y = round(math.sin(math.radians(direction)),2)\n",
        "\n",
        "    def __str__(self):\n",
        "      \"\"\" Show the radius and position in a pretty way \"\"\"\n",
        "      return f\"\"\"Radius: {self.radius}, Position: {self.centre}\"\"\"\n",
        "\n",
        "    def move(self):\n",
        "        \"\"\" Move the circle according to current direction \"\"\"\n",
        "        self.centre = (self.centre[0] + self.x, self.centre[1] + self.y)\n",
        "\n",
        "\n",
        "    def distance(self, other):\n",
        "        \"\"\" Return the distance between this circle's centre and the other one \"\"\"\n",
        "        return math.dist(self.centre, other.centre)\n",
        "\n",
        "    def intersects(self, other):\n",
        "        \"\"\" Return True iff this circle intersects the other one \"\"\"\n",
        "        return self.radius + other.radius > self.distance(other)\n",
        "\n",
        "# create a list for the input to Simulation class\n",
        "circle_list = [(Circle(rad,pos,dir)) for rad,pos,dir in zip(circle_radii,circle_positions,circle_directions)]"
      ],
      "metadata": {
        "id": "592o8ZyidROn"
      },
      "execution_count": 55,
      "outputs": []
    },
    {
      "cell_type": "code",
      "source": [
        "# Test Circle class\n",
        "def test_circle():\n",
        "  c1 = Circle(3,(2,4),0)\n",
        "  c2 = Circle(2,(5,8),30)\n",
        "  c3 = Circle(10,(100,10),270)\n",
        "\n",
        "  assert c1 != c2 and c1.radius != c2.radius and c1.centre != c2.centre\n",
        "  assert c1.distance(c2) == c2.distance(c1)\n",
        "  assert c1.distance(c2) == 5.0\n",
        "  assert c1.intersects(c2) == False\n",
        "  assert c1.centre == (2,4)\n",
        "  c1.move()\n",
        "  assert c1.centre == (3.0,4.0)\n",
        "  assert c1.intersects(c2) == True\n",
        "\n",
        "\n",
        "\n",
        "  print('tests passed!!')\n",
        "\n",
        "test_circle()"
      ],
      "metadata": {
        "colab": {
          "base_uri": "https://localhost:8080/"
        },
        "id": "oJVX84FKhnRy",
        "outputId": "51f2ec53-9645-420a-dd0b-0664cba280ca"
      },
      "execution_count": 56,
      "outputs": [
        {
          "output_type": "stream",
          "name": "stdout",
          "text": [
            "tests passed!!\n"
          ]
        }
      ]
    },
    {
      "cell_type": "code",
      "source": [
        "\n",
        "class Simulation:\n",
        "  \"\"\" Object that contains a number of circles that manages methods between the circles \"\"\"\n",
        "\n",
        "  def __init__(self,circles:list):\n",
        "    self.circles = circles\n",
        "\n",
        "  def move_circles(self):\n",
        "    \"\"\" Loop through circle list and move each one\n",
        "    Flip the direction (x or y or both) of any circle that is hitting the edge of window \"\"\"\n",
        "    for circle in self.circles:\n",
        "\n",
        "      if (circle.centre[0] + circle.radius) > X and (circle.direction < 90 or circle.direction > 270):\n",
        "        circle.direction = (circle.direction + 180)%360\n",
        "\n",
        "      if (circle.centre[0] - circle.radius) < 0 and circle.direction > 90 and circle.direction < 270:\n",
        "        circle.direction = (circle.direction + 180)%360\n",
        "\n",
        "      if (circle.centre[1] + circle.radius) > Y and circle.direction < 180:\n",
        "        circle.direction = (circle.direction + 180)%360\n",
        "\n",
        "      if (circle.centre[1] - circle.radius) < 0 and circle.direction > 180 and circle.direction < 360:\n",
        "        circle.direction = (circle.direction + 180)%360\n",
        "\n",
        "      circle.move()\n",
        "\n",
        "\n",
        "  def check_collision(self):\n",
        "    \"\"\" Loop through each unique pair of circles in circle list and check for collisions\n",
        "    If there is a collision, the directions of the circles get swapped with each other's \"\"\"\n",
        "\n",
        "    for circle_pair in itertools.combinations(self.circles,2):\n",
        "\n",
        "      if circle_pair[0].intersects(circle_pair[1]):\n",
        "        circle_pair[0].direction = circle_pair[1].direction\n",
        "        circle_pair[1].direction = circle_pair[0].direction\n",
        "\n",
        "  def step(self):\n",
        "    \"\"\" Run the move_circles and check_collisions function \"\"\"\n",
        "    self.move_circles()\n",
        "    self.check_collision()\n",
        "\n",
        "  def draw(self,axes):\n",
        "    \"\"\" Draw the current state of the simulation \"\"\"\n",
        "    axes.tick_params(axis='both', which='both', bottom=False, top=False, left=False, right=False,\n",
        "                     labelbottom=False, labeltop=False, labelleft=False, labelright=False, )\n",
        "    # Defaults for displaying a \"matrix\" with hard-pixel boundaries and (0,0) at top-left\n",
        "    options = {**dict(interpolation='nearest', origin='upper'), **options}\n",
        "    axes.imshow(self.state, **options)\n",
        "\n",
        "def plot_ca(array, axes=None, title='', cmap='Blues', **options):\n",
        "    \"\"\"\n",
        "    Plot the 2D array as an image on the given axes  1's will be dark blue, 0's will be light blue.\n",
        "\n",
        "    :param axes: the axes to plot on, or None to use the `plt.gca()` (current axes)\n",
        "    :param options: keyword arguments passed directly to `plt.imshow()`\n",
        "           see https://matplotlib.org/stable/api/_as_gen/matplotlib.axes.Axes.imshow.html\n",
        "    \"\"\"\n",
        "    axes = axes or plt.gca()  # If not axes are provided, draw on current axes\n",
        "    axes.set(\n",
        "        title=title,\n",
        "        ylabel='Time Steps',\n",
        "    )\n",
        "    # Turn off axes labels and tick marks\n",
        "    axes.tick_params(axis='x', which='both', bottom=False, labelbottom=False)\n",
        "    # Defaults for displaying a \"matrix\" with hard-pixel boundaries and (0,0) at top-left\n",
        "    options = {**dict(interpolation=None, origin='upper'), **options}\n",
        "    axes.imshow(array, cmap=cmap, **options)\n",
        "\n",
        "\n",
        "a = Simulation(circle_list)\n",
        "a.draw()\n"
      ],
      "metadata": {
        "id": "zbSQnjGYh5zB"
      },
      "execution_count": 59,
      "outputs": []
    },
    {
      "cell_type": "code",
      "source": [
        "class Animation2D:\n",
        "    \"\"\"\n",
        "      Animates any 2D model with a step() method and a draw() method, using matplotlib\n",
        "      model.step() should take no parameters - just step the model forward one step.\n",
        "      model.draw() should take 2 parameters, the matpltolib axes to draw on and an integer step number\n",
        "\n",
        "      See https://www.allendowney.com/blog/2019/07/25/matplotlib-animation-in-jupyter/\n",
        "          for a discussion of the pros and cons of various animation techniques in jupyter notebooks\n",
        "    \"\"\"\n",
        "\n",
        "    def __init__(self, model:Simulation, frames=50, steps_per_frame=1, figsize=(8, 8)):\n",
        "        \"\"\"\n",
        "        :param model: the simulation object to animate, with step() and draw(axes, step) methods\n",
        "        :param frames: number of animation frames to generate\n",
        "        \"\"\"\n",
        "        self.model = model\n",
        "        self.frames = frames\n",
        "        self.steps_per_frame = steps_per_frame\n",
        "        self.fig, self.ax = plt.subplots(figsize=figsize)\n",
        "\n",
        "    def animation_step(self, step):\n",
        "        \"\"\" Step the model forward and draw the plot \"\"\"\n",
        "        if step > 0:\n",
        "            for _ in range(self.steps_per_frame):\n",
        "                self.model.step()\n",
        "        self.model.draw(self.ax, step=step * self.steps_per_frame)\n",
        "\n",
        "    def show(self):\n",
        "        \"\"\" return the matplotlib animation object, ready for display \"\"\"\n",
        "        anim = animation.FuncAnimation(self.fig, self.animation_step, frames=self.frames)\n",
        "        plt.close()  # this ensures the last frame is not shown as a separate plot\n",
        "        return anim\n",
        "\n",
        "    def animate(self, interval=None):\n",
        "        \"\"\" Animate the model simulation directly in the notebook display block \"\"\"\n",
        "        from IPython.display import clear_output\n",
        "        try:\n",
        "            for i in range(self.frames):\n",
        "                clear_output(wait=True)  # clear the IPython display\n",
        "                self.ax.clear()  # clear old image from the axes (fixes a performance issue)\n",
        "                plt.figure(self.fig)  # add the figure back to pyplot ** sigh **\n",
        "                self.animation_step(i)\n",
        "                plt.show()  # show the current animation frame (pyplot then closes and throws away figure ** sigh **)\n",
        "                if interval:\n",
        "                    time.sleep(interval)\n",
        "        except KeyboardInterrupt:\n",
        "            pass"
      ],
      "metadata": {
        "id": "0LE9n5Y0vF-e"
      },
      "execution_count": null,
      "outputs": []
    }
  ]
}