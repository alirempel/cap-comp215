{
  "cells": [
    {
      "cell_type": "markdown",
      "metadata": {
        "collapsed": true,
        "pycharm": {
          "name": "#%% md\n"
        },
        "id": "2KVeT7cFrYf3"
      },
      "source": [
        "COMP 215 - LAB 6 (Game of Life)\n",
        "-----------------------------------------------\n",
        "#### Name: Alison Rempel\n",
        "#### Date: 2024-02-28\n",
        "\n",
        "This lab exercise is an introduction to [Conway's Game of Life](https://en.wikipedia.org/wiki/Conway%27s_Game_of_Life) discovered and studied by [John Conway](https://en.wikipedia.org/wiki/John_Horton_Conway).\n",
        "\n",
        "**New Python concepts**:\n",
        "   * 2D numpy [array](https://numpy.org/doc/stable/reference/generated/numpy.array.html)\n",
        "   * basic [array operations](https://www.pluralsight.com/guides/overview-basic-numpy-operations)\n",
        "\n",
        "**New Computation concepts**:\n",
        "   * [2D sliding dot product](https://docs.scipy.org/doc/scipy/reference/generated/scipy.signal.correlate2d.html)\n",
        "   * [Animation](https://matplotlib.org/stable/api/animation_api.html)\n",
        "\n",
        "**Credits**:\n",
        "    Code examples based on [Think Complexity, 2nd edition](https://thinkcomplex.com).\n",
        "    Copyright 2016 Allen Downey, [MIT License](http://opensource.org/licenses/MIT)\n",
        "\n",
        "As usual, the first code cell simply imports all the modules we'll be using..."
      ]
    },
    {
      "cell_type": "code",
      "execution_count": 1,
      "outputs": [],
      "source": [
        "import time\n",
        "import matplotlib\n",
        "import matplotlib.pyplot as plt\n",
        "from matplotlib import animation\n",
        "import numpy as np\n",
        "from scipy.signal import correlate2d\n",
        "import random\n",
        "\n",
        "%matplotlib inline\n",
        "# Configure matplotlib's animation library to work in the browser.\n",
        "matplotlib.rc('animation', html='jshtml')"
      ],
      "metadata": {
        "pycharm": {
          "name": "#%%\n"
        },
        "ExecuteTime": {
          "end_time": "2024-01-06T00:59:30.713969Z",
          "start_time": "2024-01-06T00:59:29.426998Z"
        },
        "id": "ffcHXPMHrYf5"
      }
    },
    {
      "cell_type": "markdown",
      "source": [
        "A reusable function for plotting 2D numpy.array as an image..."
      ],
      "metadata": {
        "collapsed": false,
        "pycharm": {
          "name": "#%% md\n"
        },
        "id": "PSnqxZfzrYf6"
      }
    },
    {
      "cell_type": "code",
      "execution_count": 2,
      "outputs": [],
      "source": [
        "def plot_2d_array(array, axes=None, title='', cmap='Blues', **options):\n",
        "    \"\"\"\n",
        "    Plot the 2D array as an image on the given axes  1's will be dark blue, 0's will be light blue.\n",
        "\n",
        "    :param axes: the axes to plot on, or None to use the `plt.gca()` (current axes)\n",
        "    :param options: keyword arguments passed directly to `plt.imshow()`\n",
        "           see https://matplotlib.org/stable/api/_as_gen/matplotlib.axes.Axes.imshow.html\n",
        "    \"\"\"\n",
        "    axes = axes or plt.gca()  # If not axes are provided, draw on current axes\n",
        "    axes.set_title(title)\n",
        "    # Turn off axes labels and tick marks\n",
        "    axes.tick_params(axis='both', which='both', bottom=False, top=False, left=False, right=False ,\n",
        "                     labelbottom=False, labeltop=False, labelleft=False, labelright=False,)\n",
        "    # Defaults for displaying a \"matrix\" with hard-pixel boundaries and (0,0) at top-left\n",
        "    options = {**dict(interpolation='nearest', origin='upper'), **options}\n",
        "    axes.imshow(array, cmap=cmap, **options)"
      ],
      "metadata": {
        "pycharm": {
          "name": "#%%\n"
        },
        "ExecuteTime": {
          "end_time": "2024-01-06T00:59:30.719129Z",
          "start_time": "2024-01-06T00:59:30.716251Z"
        },
        "id": "TeCPhlwUrYf7"
      }
    },
    {
      "cell_type": "markdown",
      "source": [
        "## Life Fundamentals\n",
        "Both the textbook and our week6 notebooks develop some fundamental operations for simulating the Game of Life.\n",
        "Some of the code from `week6.ipynb` is reproduced here without deriving all the ideas - review `week6.ipynb` notebook for the full story.\n",
        "The sliding dot product algorithm in `step` is implemented with [scipy.signal.correlate2d](https://docs.scipy.org/doc/scipy/reference/generated/scipy.signal.correlate2d.html).  It's behaviour is identical to the derivation in `week6.ipynb`.\n",
        "\n",
        "#### Notes\n",
        "* we use `correlate2d(state, kernel, mode='same', boundary='wrap')` to pad state matrix with 1 value around perimeter from the opposite side of the matrix.\n",
        "* since the rule is a 1D `np.array`, we use \"vector indexing\" here to set the 'live' state transitions:  `next_state[[3, 12, 13]] = 1`"
      ],
      "metadata": {
        "collapsed": false,
        "pycharm": {
          "name": "#%% md\n"
        },
        "id": "mjXiIKmbrYf7"
      }
    },
    {
      "cell_type": "code",
      "execution_count": 3,
      "outputs": [],
      "source": [
        "class Life2D:\n",
        "    \"\"\" An basic 2D Cellular Automata that implementes Conway's Game of Life \"\"\"\n",
        "    kernel = np.array([[1, 1, 1],\n",
        "                       [1, 10, 1],\n",
        "                       [1, 1, 1]])\n",
        "\n",
        "    next_state = np.zeros(19, dtype=np.uint8)\n",
        "    next_state[[3, 12, 13]] = 1\n",
        "\n",
        "    def __init__(self, n_rows, n_cols=None):\n",
        "        \"\"\" Construct a n_rows x n_cols 2D CA \"\"\"\n",
        "        n_cols = n_cols or n_rows  # i.e., n_cols if n_cols is not None and n_cols != 0 else n_rows\n",
        "        self.state = np.zeros(shape=(n_rows, n_cols), dtype=np.uint8)\n",
        "\n",
        "    def step(self):\n",
        "        \"\"\"Executes one time step. \"\"\"\n",
        "        transitions = correlate2d(self.state, self.kernel, mode='same', boundary='wrap')\n",
        "        self.state = self.next_state[transitions]\n",
        "\n",
        "    def draw(self, axes=None, step=''):\n",
        "        axes = axes or plt.gca()   # use pyplot's current axes if none are provided.\n",
        "        plot_2d_array(self.state, axes, title=f\"Conway's Game of Life {step}\")"
      ],
      "metadata": {
        "pycharm": {
          "name": "#%%\n"
        },
        "ExecuteTime": {
          "end_time": "2024-01-06T00:59:30.722229Z",
          "start_time": "2024-01-06T00:59:30.719978Z"
        },
        "id": "auTV_zverYf7"
      }
    },
    {
      "cell_type": "markdown",
      "source": [
        "### Visualizing a 2D simulation model\n",
        "For 1D CAs, we could use a 2D image to visualize the CA progression over time.\n",
        "For 2D CAs, we could try using time as a 3rd axis to generate a 3D visualziation, but without VR, its hard to explore a 3D visualization.\n",
        "Instead, we'll use a simple 2D [\"stop motion\" animation](https://en.wikipedia.org/wiki/Animation).\n",
        "Here is a generic class that animates any 2D model that provides step() and draw() methods, and uses matplotlib to render its state.\n",
        "\n",
        "See [Matplotlib animation in Jupyter](https://www.allendowney.com/blog/2019/07/25/matplotlib-animation-in-jupyter/) by our textbook author for a discussion of the pros and cons of various animation techniques in jupyter notebooks."
      ],
      "metadata": {
        "collapsed": false,
        "pycharm": {
          "name": "#%% md\n"
        },
        "id": "OrgEfvNjrYf8"
      }
    },
    {
      "cell_type": "code",
      "execution_count": 4,
      "outputs": [],
      "source": [
        "class Animation2D:\n",
        "    \"\"\"\n",
        "      Animates any 2D model with a step() method and a draw() method, using matplotlib\n",
        "      model.step() should take no parameters - just step the model forward one step.\n",
        "      model.draw() should take 2 parameters, the matpltolib axes to draw on and an integer step number\n",
        "    \"\"\"\n",
        "\n",
        "    def __init__(self, model, frames=50, figsize=(8, 8)):\n",
        "        \"\"\"\n",
        "        :param model: the simulation object to animate, with step() and draw(axes, step) methods\n",
        "        :param frames: number of animation frames to generate\n",
        "        \"\"\"\n",
        "        self.model = model\n",
        "        self.frames = frames\n",
        "        self.fig, self.ax = plt.subplots(figsize=figsize)\n",
        "\n",
        "    def animation_step(self, step):\n",
        "        \"\"\" Step the model forward and draw the plot \"\"\"\n",
        "        if step > 0:\n",
        "            self.model.step()\n",
        "        self.model.draw(self.ax, step=step)\n",
        "\n",
        "    def show(self):\n",
        "        \"\"\" return the matplotlib animation object, ready for display \"\"\"\n",
        "        anim = animation.FuncAnimation(self.fig, self.animation_step, frames=self.frames)\n",
        "        plt.close()  # this ensures the last frame is not shown as a separate plot\n",
        "        return anim\n",
        "\n",
        "    def animate(self, interval=None):\n",
        "        \"\"\" Animate the model simulation directly in the notebook display block \"\"\"\n",
        "        from IPython.display import clear_output\n",
        "        try:\n",
        "            for i in range(self.frames):\n",
        "                clear_output(wait=True)  # clear the IPython display\n",
        "                self.ax.clear()          # clear old image from the axes (fixes a performance issue)\n",
        "                plt.figure(self.fig)     # add the figure back to pyplot ** sigh **\n",
        "                self.animation_step(i)\n",
        "                plt.show()               # show the current animation frame (pyplot then closes and throws away figure ** sigh **)\n",
        "                if interval:\n",
        "                    time.sleep(interval)\n",
        "        except KeyboardInterrupt:\n",
        "            pass"
      ],
      "metadata": {
        "pycharm": {
          "name": "#%%\n"
        },
        "ExecuteTime": {
          "end_time": "2024-01-06T00:59:30.727443Z",
          "start_time": "2024-01-06T00:59:30.724530Z"
        },
        "id": "6ipkDShTrYf8"
      }
    },
    {
      "cell_type": "markdown",
      "source": [
        "### Sample usage\n",
        "Animate a single glider..."
      ],
      "metadata": {
        "collapsed": false,
        "pycharm": {
          "name": "#%% md\n"
        },
        "id": "qtAnl8KyrYf8"
      }
    },
    {
      "cell_type": "code",
      "execution_count": 5,
      "outputs": [
        {
          "output_type": "display_data",
          "data": {
            "text/plain": [
              "<Figure size 800x800 with 1 Axes>"
            ],
            "image/png": "[encoded data removed]"
          },
          "metadata": {}
        }
      ],
      "source": [
        "size = 10\n",
        "life = Life2D(size)\n",
        "glider = np.array([[0, 1, 0], [0, 0, 1], [1, 1, 1]], dtype=np.uint8)\n",
        "life.state[1:4, 2:5] = glider             # bad idea to alter an objects state directly!  We'll improve it in Ex. 3\n",
        "gol = Animation2D(life, frames=20)\n",
        "gol.animate()"
      ],
      "metadata": {
        "pycharm": {
          "name": "#%%\n"
        },
        "id": "o3Y_4zN2rYf8",
        "outputId": "d051d9cb-47ce-480d-d50b-dcfec625a386",
        "colab": {
          "base_uri": "https://localhost:8080/",
          "height": 675
        }
      }
    },
    {
      "cell_type": "markdown",
      "source": [
        "## Exercise 1:  Enumerate all Elementary 2D CA's\n",
        "Write a line or 2 of code to compute and print the answer for each question:\n",
        "* how many unique states are there for a 3x3 (9 cell) neighbourhood?\n",
        "* how many unique “rules” are there? (where a rule provides a mapping for each possible neighbourhood state to the output for the centre cell)\n",
        "* how does this number compare, for example, to the [number of atoms in the observable universe?](https://en.wikipedia.org/wiki/Observable_universe#Matter_content%E2%80%94number_of_atoms)"
      ],
      "metadata": {
        "collapsed": false,
        "id": "pKIRd9JLrYf9"
      }
    },
    {
      "cell_type": "code",
      "execution_count": 6,
      "outputs": [
        {
          "output_type": "stream",
          "name": "stdout",
          "text": [
            "512\n",
            "13407807929942597099574024998205846127479365820592393377723561443721764030073546976801874298166903427690031858186486050853753882811946569946433649006084096\n",
            "1000000000000000000000000000000000000000000000000000000000000000000000000000000\n",
            "2^512 is 1.3407807929942597e+76 times bigger than the number of atoms in the universe\n"
          ]
        }
      ],
      "source": [
        "# Ex. 1 your code here...\n",
        "unique_states = 2**9\n",
        "unique_rules = 2**unique_states\n",
        "atoms_in_universe = 10**78\n",
        "\n",
        "print(unique_states)\n",
        "print(unique_rules)\n",
        "print(atoms_in_universe)\n",
        "print(f\"2^512 is {unique_rules/atoms_in_universe} times bigger than the number of atoms in the universe\")\n"
      ],
      "metadata": {
        "pycharm": {
          "name": "#%%\n"
        },
        "ExecuteTime": {
          "end_time": "2024-01-06T00:59:32.380370Z",
          "start_time": "2024-01-06T00:59:32.378662Z"
        },
        "id": "6sHyBV-7rYf-",
        "outputId": "862a8bf5-50db-412d-9965-99d36a204144",
        "colab": {
          "base_uri": "https://localhost:8080/"
        }
      }
    },
    {
      "cell_type": "markdown",
      "source": [
        "Using what you learned above, concisely answer each question below (point form)1\n",
        "1. would it be a reasonable goal to conduct an experiment like Wolfram’s for 2D CA’s?\n",
        "2. propose a numbering scheme for these rules, analogous to Wolfram’s rule numbers\n",
        "3. how might we go about determining which rule number corresponds to Conway’s GoL?\n",
        "   (I’m not asking for the number, but rather for a method you could use to find it.)"
      ],
      "metadata": {
        "collapsed": false,
        "pycharm": {
          "name": "#%% md\n"
        },
        "id": "C0R5OXelrYf-"
      }
    },
    {
      "cell_type": "markdown",
      "source": [
        "#### Ex 1. Your Answers\n",
        "\n",
        "1. No, the number of rules is so large, we definitely cant look at them all in a lifetime, let alone before the heat death of the universe.\n",
        "2. Number each of the 512 states and make a 512 digit binary number where the indexes correspond to each state's indexes where each digit represents the output from that state.\n",
        "3. Find all the states where the cell is alive in the next step, and using the numbered order of the states, find the 512 digit binary number where the index of those states have the value 1 and every other digit is 0."
      ],
      "metadata": {
        "collapsed": false,
        "id": "oJEADnJKrYf_"
      }
    },
    {
      "cell_type": "markdown",
      "source": [
        "## Exercise 2: random_life\n",
        "Extend the Life2D class defined above to allow the game to be initialized with a random start state.\n",
        "The liklihood of any given cell being initialized to \"alive\" is given by $p$.\n",
        "*Hint*: we did this exact exercise for a 1D array in previous lab"
      ],
      "metadata": {
        "collapsed": false,
        "pycharm": {
          "name": "#%% md\n"
        },
        "id": "6YTJi_wDrYf_"
      }
    },
    {
      "cell_type": "code",
      "execution_count": 8,
      "outputs": [
        {
          "output_type": "stream",
          "name": "stdout",
          "text": [
            "BetterLife2D object \"a\"\n",
            "[[0 0 0 0 0 0]\n",
            " [0 0 0 0 0 0]\n",
            " [0 0 0 0 0 0]\n",
            " [0 0 0 0 0 0]\n",
            " [0 0 0 0 0 0]\n",
            " [0 0 0 0 0 0]\n",
            " [0 0 0 0 0 0]\n",
            " [0 0 0 0 0 0]]\n",
            "\n",
            "Randomized state of \"a\"\n",
            "[[0 0 1 1 0 0]\n",
            " [0 0 0 0 0 1]\n",
            " [0 0 0 0 1 0]\n",
            " [0 1 0 0 0 0]\n",
            " [0 0 0 0 0 0]\n",
            " [1 0 0 0 1 0]\n",
            " [0 1 0 0 0 0]\n",
            " [0 0 0 0 1 0]]\n",
            "\n",
            " Random life func test\n",
            "[[1 1 1]\n",
            " [0 0 0]\n",
            " [1 0 0]\n",
            " [1 1 1]\n",
            " [0 0 1]]\n"
          ]
        }
      ],
      "source": [
        "# Ex. 2 experimental setup\n",
        "\n",
        "class BetterLife2D(Life2D):\n",
        "    \"\"\" Improvements on the basic Life2D model \"\"\"\n",
        "\n",
        "    def randomize_state(self, p):\n",
        "        \"\"\" Randomize the state of this GoL, where probability of a \"live\" cell is p \"\"\"\n",
        "        n_rows = self.state.shape[0]\n",
        "        n_cols = self.state.shape[1]\n",
        "        self.state = np.array([[1 if random.random() < p else 0 for item in range(n_cols)] for col in range(n_rows)])\n",
        "\n",
        "\n",
        "    def load_pattern(self,x,y,pattern):\n",
        "      self.state[x:x + pattern.shape[0] , y:y + pattern.shape[1]] = pattern\n",
        "\n",
        "\n",
        "\n",
        "# ------------------------- END OF CLASS METHODS\n",
        "\n",
        "def random_life(n_rows, n_cols=None, p=0.5):\n",
        "    \"\"\" Return a Life2D object of given dimensions with initial randomized state where \"live\" cells have probability p \"\"\"\n",
        "    life_obj = BetterLife2D(n_rows,n_cols)\n",
        "    life_obj.randomize_state(p)\n",
        "    return life_obj\n",
        "\n",
        "\n",
        "a = BetterLife2D(8,6)\n",
        "print(f'BetterLife2D object \"a\"\\n{a.state}')\n",
        "a.randomize_state(.1)\n",
        "print(f'\\nRandomized state of \"a\"\\n{a.state}')\n",
        "print(f'\\n Random life func test\\n{random_life(5,3).state}')\n"
      ],
      "metadata": {
        "pycharm": {
          "name": "#%%\n"
        },
        "ExecuteTime": {
          "end_time": "2024-01-06T00:59:32.383669Z",
          "start_time": "2024-01-06T00:59:32.381110Z"
        },
        "id": "cwv8an-ErYf_",
        "colab": {
          "base_uri": "https://localhost:8080/"
        },
        "outputId": "e625784c-7b2b-432b-c579-50ac148c64dc"
      }
    },
    {
      "cell_type": "markdown",
      "source": [
        "### Experiment\n",
        "Run a small experiment to see if you can identify any relationship between $p$, the probability of a live cell in the initial grid, and the time it takes for the GoL pattern to stabilize."
      ],
      "metadata": {
        "collapsed": false,
        "pycharm": {
          "name": "#%% md\n"
        },
        "id": "EdDCaY_CrYgA"
      }
    },
    {
      "cell_type": "markdown",
      "source": [
        "I noticed that for a 10 by 10 block it took:\n",
        "* p > .7 | under 10 steps\n",
        "* p = .6 | around 10-20 steps\n",
        "* p = .5 | mostly around 20-50 steps but lots of variety, some very small, others over 100\n",
        "* p = .4 | mostly around 30-50 steps but lots of variety too, most often either 20-30 or 100+ steps\n",
        "* p = .3 | around 10-60 steps, even more variety, there were also a slight range between 80-100 steps.\n",
        "* p = .2 | under 30 steps, much less variety than 0.3 < p < 0.5 but still some took 60+.\n",
        "* p < .1 | under 10 steps\n",
        "\n",
        "This is based off of 25 trial runs each and a table I drew on my whiteboard keeping track of the amount of steps it took per run.\n",
        "\n",
        "It seems that when p is 30%-50% the most variety happens and it takes longer to resolve. I think this may be due to a similar reason that for the 1D cellular automatas, the rules with a 50/50-ish spilt of 0s and 1s had more complex behaivour."
      ],
      "metadata": {
        "id": "Wkcifx8Y7d1Y"
      }
    },
    {
      "cell_type": "code",
      "execution_count": 8,
      "outputs": [
        {
          "output_type": "display_data",
          "data": {
            "text/plain": [
              "<Figure size 800x800 with 1 Axes>"
            ],
            "image/png": "[encoded data removed]"
          },
          "metadata": {}
        }
      ],
      "source": [
        "# Ex. 2 write code for your experiment here...\n",
        "p = 0.1\n",
        "life = random_life(10,p=p)\n",
        "def experiment(life_obj,frames):\n",
        "  gol = Animation2D(life_obj, frames=frames)\n",
        "  gol.animate()\n",
        "\n",
        "experiment(life,200)\n"
      ],
      "metadata": {
        "pycharm": {
          "name": "#%%\n"
        },
        "ExecuteTime": {
          "end_time": "2024-01-06T00:59:32.386367Z",
          "start_time": "2024-01-06T00:59:32.383563Z"
        },
        "id": "DyX6kaXTrYgA",
        "colab": {
          "base_uri": "https://localhost:8080/",
          "height": 675
        },
        "outputId": "12aa2a08-21c5-4567-ac96-6e08e0486b8d"
      }
    },
    {
      "cell_type": "markdown",
      "source": [
        "## Exercise 3: Load Patterns\n",
        "People have discovered many interesting [\"patterns\"](https://conwaylife.com/wiki/Category:Patterns) that exhibit various types of behaviours.\n",
        "A \"pattern\" is just a small 2D array.\n",
        " 1. Develop a function that returns a 2D array containing the patterns defined by a single string; and\n",
        " 2. Add a `load_pattern(x, y, pattern)` method to your `BetterLife2D` class above to insert patterns into the Life state array\n",
        "    *Tip*: you can [assign an entire 2D slice of a numpy array](https://www.nickmccullum.com/advanced-python/numpy-indexing-assignment/) in a single assignment statement!   See example in the Sample Usage block above. Try it!"
      ],
      "metadata": {
        "collapsed": false,
        "pycharm": {
          "name": "#%% md\n"
        },
        "id": "TQiSI-RQrYgA"
      }
    },
    {
      "cell_type": "code",
      "execution_count": 9,
      "outputs": [
        {
          "output_type": "stream",
          "name": "stdout",
          "text": [
            "[[0 1 0]\n",
            " [0 0 1]\n",
            " [1 1 1]]\n"
          ]
        }
      ],
      "source": [
        "# Here's an example of the glider pattern from above defined in a single string...\n",
        "glider_pattern = \\\n",
        "    \"\"\"\n",
        "    010\n",
        "    001\n",
        "    111\n",
        "    \"\"\"\n",
        "\n",
        "# Ex. 3 your code here...\n",
        "def str_to_array(pattern_string):\n",
        "  row = []\n",
        "  array = []\n",
        "\n",
        "  for char in pattern_string:\n",
        "    if char in ['0','1']:\n",
        "      row.append(int(char))\n",
        "\n",
        "    if char == '\\n' and row != []:\n",
        "      array.append(row)\n",
        "      row = []\n",
        "\n",
        "  return np.array(array)\n",
        "\n",
        "print(str_to_array(glider_pattern))\n"
      ],
      "metadata": {
        "pycharm": {
          "name": "#%%\n"
        },
        "ExecuteTime": {
          "end_time": "2024-01-06T00:59:32.388974Z",
          "start_time": "2024-01-06T00:59:32.385536Z"
        },
        "id": "4gz62IharYgA",
        "colab": {
          "base_uri": "https://localhost:8080/"
        },
        "outputId": "f50615bb-4447-4808-c6ce-cd2ab4eeef32"
      }
    },
    {
      "cell_type": "markdown",
      "source": [
        "### Define some patterns\n",
        "User your nifty new function to define a few common, interesting patterns (e.g., from the book or other sources)"
      ],
      "metadata": {
        "collapsed": false,
        "pycharm": {
          "name": "#%% md\n"
        },
        "id": "FiDf_sfMrYgA"
      }
    },
    {
      "cell_type": "code",
      "execution_count": 10,
      "outputs": [],
      "source": [
        "# Ex. 3 define your patterns here...\n",
        "\n",
        "gosper_gun_pattern = \\\n",
        "\"\"\"\n",
        "\n",
        "000000000000000000000000100000000000\n",
        "000000000000000000000010100000000000\n",
        "000000000000110000001100000000000011\n",
        "000000000001000100001100000000000011\n",
        "110000000010000010001100000000000000\n",
        "110000000010001011000010100000000000\n",
        "000000000010000010000000100000000000\n",
        "000000000001000100000000000000000000\n",
        "000000000000110000000000000000000000\n",
        "\n",
        "\"\"\"\n",
        "sideways_gosper_gun_pattern = \\\n",
        "\"\"\"\n",
        "000110000\n",
        "000110000\n",
        "000000000\n",
        "000000000\n",
        "000000000\n",
        "000000000\n",
        "000000000\n",
        "000000000\n",
        "000000000\n",
        "000000000\n",
        "001110000\n",
        "010001000\n",
        "100000100\n",
        "100000100\n",
        "000100000\n",
        "010001000\n",
        "001110000\n",
        "000100000\n",
        "000000000\n",
        "000000000\n",
        "000011100\n",
        "000011100\n",
        "000100010\n",
        "000000000\n",
        "001100011\n",
        "000000000\n",
        "000000000\n",
        "000000000\n",
        "000000000\n",
        "000000000\n",
        "000000000\n",
        "000000000\n",
        "000000000\n",
        "000000000\n",
        "000001100\n",
        "000001100\n",
        "\"\"\"\n",
        "\n",
        "glider_pattern_dl = \\\n",
        "    \"\"\"\n",
        "    010\n",
        "    001\n",
        "    111\n",
        "    \"\"\"\n",
        "glider_pattern_dr = \\\n",
        "    \"\"\"\n",
        "    010\n",
        "    100\n",
        "    111\n",
        "    \"\"\"\n",
        "\n",
        "eater_pattern = \\\n",
        "\"\"\"\n",
        "1100\n",
        "1010\n",
        "0010\n",
        "0011\n",
        "\"\"\"\n",
        "\n",
        "left_glider = str_to_array(glider_pattern_dl)\n",
        "right_glider = str_to_array(glider_pattern_dr)\n",
        "gosper_gun = str_to_array(gosper_gun_pattern)\n",
        "sideways_gosper_gun = str_to_array(sideways_gosper_gun_pattern)\n",
        "eater = str_to_array(eater_pattern)\n"
      ],
      "metadata": {
        "pycharm": {
          "name": "#%%\n"
        },
        "ExecuteTime": {
          "end_time": "2024-01-06T00:59:32.389471Z",
          "start_time": "2024-01-06T00:59:32.387944Z"
        },
        "id": "OmdxVF3rrYgB"
      }
    },
    {
      "cell_type": "markdown",
      "source": [
        "### Experiment\n",
        "Load up a BetterLife2D object with some patterns that interact in some interesting way.\n",
        "What can we learn from studying interactions like this?   Is anything here applicable to the real world?"
      ],
      "metadata": {
        "collapsed": false,
        "pycharm": {
          "name": "#%% md\n"
        },
        "id": "4egoXQXmrYgB"
      }
    },
    {
      "cell_type": "markdown",
      "source": [
        "Through my experiments below, I think that the gosper guns interacting have the potential to make some unique patterns and that those probably are the basis for making an actual computer using GOL.\n",
        "\n",
        "For real world applications, you could use this or any other 2D celluar automata to model complex real problems in a simpler way. Like how game of life loosely models real life, by showing overcrowding, isolation, and stable populations working in a somewhat similar way to an ecosystem in real life."
      ],
      "metadata": {
        "id": "HsI1GF71E0sL"
      }
    },
    {
      "cell_type": "code",
      "execution_count": 11,
      "outputs": [
        {
          "output_type": "display_data",
          "data": {
            "text/plain": [
              "<Figure size 800x800 with 1 Axes>"
            ],
            "image/png": "[encoded data removed]"
          },
          "metadata": {}
        }
      ],
      "source": [
        "# I put stuff into functions so only the relevant test ran rather than all of them\n",
        "\n",
        "def run_a():\n",
        "  \"\"\" Used to try using a gosper gun and trying to figure out how to place eater \"\"\"\n",
        "  a = BetterLife2D(50,50)\n",
        "  a.load_pattern(3,3,gosper_gun)\n",
        "  a.load_pattern(26,40,eater)\n",
        "  experiment(a,200)\n",
        "\n",
        "def run_b():\n",
        "  \"\"\" Used to see what happens when gliders collide from different spots \"\"\"\n",
        "  b = BetterLife2D(50,50)\n",
        "  b.load_pattern(10,3,left_glider)\n",
        "  b.load_pattern(3,55,right_glider)\n",
        "  experiment(b,200)\n",
        "\n",
        "def run_c1():\n",
        "  \"\"\" Used to mess around with position of gosper guns- gliders kill each other \"\"\"\n",
        "  c1 = BetterLife2D(50,70)\n",
        "  c1.load_pattern(20,7,gosper_gun)\n",
        "  c1.load_pattern(3,55,sideways_gosper_gun)\n",
        "  experiment(c1,200)\n",
        "\n",
        "def run_c2():\n",
        "  \"\"\" Used to mess around with position of gosper guns- try to make gliders pass by each other\n",
        "  **Note on this below\n",
        "  \"\"\"\n",
        "  c2 = BetterLife2D(50,70)\n",
        "  c2.load_pattern(21,5,gosper_gun)\n",
        "  c2.load_pattern(3,55,sideways_gosper_gun)\n",
        "  experiment(c2,200)\n",
        "\n",
        "# run_a()\n",
        "# run_b()\n",
        "run_c1()\n",
        "# run_c2() # doesn't work :( just makes gliders go boom"
      ],
      "metadata": {
        "pycharm": {
          "name": "#%%\n"
        },
        "ExecuteTime": {
          "end_time": "2024-01-06T00:59:32.392005Z",
          "start_time": "2024-01-06T00:59:32.389848Z"
        },
        "id": "ZM9EzEs3rYgB",
        "colab": {
          "base_uri": "https://localhost:8080/",
          "height": 502
        },
        "outputId": "ac49501f-84ed-4b08-f0d6-e964621e63fb"
      }
    },
    {
      "cell_type": "markdown",
      "source": [
        "  **Note about the above:\n",
        "  \n",
        "  After trying for a while, I noticed that its really easy to make gliders 'disappear' each other or 'explode', but when I cycled through every increment between the gliders, I couldn't get any to pass through each other.\n",
        "  \n",
        "  This is just anecdotal evidence but I think if you wanted to try and get them through each other you'd have to find a way to thin out the stream, either that or I'm very unlucky.\n",
        "\n",
        "  Also unrelated but through pausing at the right times, I learned that gosper guns have a period of 30, because step 30 looked like step 0 but with 1 glider and step 90 looked the same but with 3 gliders. I probably could have googled this but where's the fun in that?"
      ],
      "metadata": {
        "id": "Hq5MRXp8EJwV"
      }
    }
  ],
  "metadata": {
    "kernelspec": {
      "display_name": "Python 3",
      "language": "python",
      "name": "python3"
    },
    "language_info": {
      "codemirror_mode": {
        "name": "ipython",
        "version": 2
      },
      "file_extension": ".py",
      "mimetype": "text/x-python",
      "name": "python",
      "nbconvert_exporter": "python",
      "pygments_lexer": "ipython2",
      "version": "2.7.6"
    },
    "colab": {
      "provenance": []
    }
  },
  "nbformat": 4,
  "nbformat_minor": 0
}