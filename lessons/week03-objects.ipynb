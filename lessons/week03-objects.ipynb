{
  "nbformat": 4,
  "nbformat_minor": 0,
  "metadata": {
    "colab": {
      "name": "week3.ipynb",
      "provenance": [],
      "include_colab_link": true
    },
    "kernelspec": {
      "name": "python3",
      "language": "python",
      "display_name": "Python 3 (ipykernel)"
    },
    "language_info": {
      "name": "python"
    }
  },
  "cells": [
    {
      "cell_type": "markdown",
      "metadata": {
        "id": "view-in-github",
        "colab_type": "text"
      },
      "source": [
        "<a href=\"https://colab.research.google.com/github/alirempel/cap-comp215/blob/main/lessons/week03-objects.ipynb\" target=\"_parent\"><img src=\"https://colab.research.google.com/assets/colab-badge.svg\" alt=\"Open In Colab\"/></a>"
      ]
    },
    {
      "cell_type": "markdown",
      "source": [
        "# Classes and Objects\n",
        "Our week 3 lesson workbook, available on Github from the powderflask/cap-comp215 repository.\n",
        "\n",
        "As usual, the first code block just imports the modules we will use."
      ],
      "metadata": {
        "id": "WBMC0GrjNRTM"
      }
    },
    {
      "cell_type": "code",
      "execution_count": 1,
      "outputs": [],
      "source": [
        "import math\n",
        "import random\n",
        "from collections import defaultdict\n",
        "\n",
        "import matplotlib.pyplot as plt\n",
        "from pprint import pprint"
      ],
      "metadata": {
        "pycharm": {
          "name": "#%%\n"
        },
        "id": "Xuhr0Iqrkl7M",
        "ExecuteTime": {
          "end_time": "2023-12-31T02:31:58.997602Z",
          "start_time": "2023-12-31T02:31:58.976539Z"
        }
      }
    },
    {
      "cell_type": "markdown",
      "source": [
        "### Everything in `python` is an `object`!\n",
        "  * and every `object` has a `type`!\n",
        "    * use `type(object)` to learn the type of an object\n",
        "    * a `class` is used to define a `type`!\n",
        "  * even a `function` is an `object` !!\n",
        "  * an `object` has attributes, you can just add new attributes to any object (but don't!)\n",
        "\n",
        "A little code to demonstrate..."
      ],
      "metadata": {
        "collapsed": false,
        "id": "phKABdVtbsB2"
      }
    },
    {
      "cell_type": "code",
      "execution_count": 9,
      "outputs": [
        {
          "output_type": "execute_result",
          "data": {
            "text/plain": [
              "type"
            ]
          },
          "metadata": {},
          "execution_count": 9
        }
      ],
      "source": [
        "# demo code\n",
        "def foo():\n",
        "  pass\n",
        "\n",
        "class Foo:\n",
        "  pass\n",
        "\n",
        "f = Foo()\n",
        "\n",
        "type(Foo), type(Foo())\n",
        "type(int), type(int(42))\n",
        "type(zip), type(zip((1,2),(\"a\",\"b\")))\n",
        "type(type)"
      ],
      "metadata": {
        "ExecuteTime": {
          "end_time": "2023-12-31T02:31:59.009106Z",
          "start_time": "2023-12-31T02:31:58.997351Z"
        },
        "id": "4kZjp9n3bsB2",
        "outputId": "d38a8fae-8ced-45e2-f4fb-ebbd5b4afdb6",
        "colab": {
          "base_uri": "https://localhost:8080/"
        }
      }
    },
    {
      "cell_type": "markdown",
      "source": [
        "## Stack\n",
        "A type of collection where data is inserted and removed from the same 'end' of the collection. Operations are:\n",
        "* push(item) -> None\n",
        "* top() -> item\n",
        "* pop() -> item"
      ],
      "metadata": {
        "id": "Z5iFmXqrggC1"
      }
    },
    {
      "cell_type": "code",
      "source": [
        "class Stack:\n",
        "  \"\"\" A stack type that implements classic stack operations. \"\"\"\n",
        "\n",
        "  def __init__(self):\n",
        "    self._items = [] # underscore in front means dont touch data\n",
        "\n",
        "  def __lt__(self, other):\n",
        "    \"\"\" return True iff self is shorter than other \"\"\"\n",
        "    return len(self._items) < len(other._items)\n",
        "\n",
        "  def push(self,item):\n",
        "    \"\"\" Push the item to top of stack (mutator) \"\"\"\n",
        "    self._items.append(item)\n",
        "\n",
        "  def pop(self):\n",
        "    \"\"\" remove item from top of stack and return it \"\"\"\n",
        "    return self._items.pop()\n",
        "\n",
        "  def top(self):\n",
        "    \"\"\" examine top of stack and return item with out removing it \"\"\"\n",
        "    return self._items[-1]\n",
        "\n",
        "  def is_empty(self):\n",
        "    \"\"\" return True iff there are no elements in stack \"\"\"\n",
        "    return len(self._items) == 0\n",
        "\n",
        "\n",
        "def test_stack():\n",
        "  s = Stack()\n",
        "  t = Stack()\n",
        "  s.is_empty() # self is thing on left of \".\"\n",
        "  t.push(42)\n",
        "  t.push(99)\n",
        "  t.push(101)\n",
        "  assert t.top() == 101\n",
        "  assert t.pop() == 101\n",
        "  assert t.top() == 99\n",
        "  assert not t.is_empty()\n",
        "  assert s < t and not t < s\n",
        "  print(\"tests pass\")\n",
        "\n",
        "test_stack()\n",
        "# Stack.__lt__(t,s) == t < s\n",
        "# int.__lt__(42,99) == 42 < 99"
      ],
      "metadata": {
        "id": "ECoVecR2gU1s",
        "outputId": "83b9cc77-d90d-4d83-e9ac-428235e55337",
        "colab": {
          "base_uri": "https://localhost:8080/"
        }
      },
      "execution_count": 10,
      "outputs": [
        {
          "output_type": "stream",
          "name": "stdout",
          "text": [
            "tests pass\n"
          ]
        }
      ]
    },
    {
      "cell_type": "markdown",
      "source": [
        "## Problem: Collision detection using circles\n",
        "A `class` is just a collection of `functions` that all work on the same piece of `data structure`.\n",
        "\n",
        "The `data structure` is defined by the class's `instance variables`.\n",
        "\n",
        "Easiest to understand if we do an example - let's define a `Circle` object type..."
      ],
      "metadata": {
        "collapsed": false,
        "id": "9kidyXF4kl7N"
      }
    },
    {
      "cell_type": "code",
      "execution_count": 19,
      "outputs": [],
      "source": [
        "class Circle:\n",
        "    \"\"\" Representation for the data and operations on a circle \"\"\"\n",
        "\n",
        "    def __init__(self, radius:float, centre:tuple):\n",
        "      assert len(centre) == 2\n",
        "\n",
        "      self.radius = radius\n",
        "      self.centre = centre\n",
        "\n",
        "\n",
        "    def area(self):\n",
        "        \"\"\" Return the area of this circle \"\"\"\n",
        "        return math.pi * self.radius**2\n",
        "\n",
        "    def move(self, offset:tuple):\n",
        "        \"\"\" Move this circle by given (x,y) offset \"\"\"\n",
        "        self.centre = (self.centre[0] + offset[0], self.centre[1] + offset[1])\n",
        "\n",
        "    def distance(self, other:Circle):\n",
        "        \"\"\" Return the distance between this circle's centre and the other one \"\"\"\n",
        "        return math.dist(self.centre, other.centre)\n",
        "\n",
        "    def intersects(self, other:Circle):\n",
        "        \"\"\" Return True iff this circle intersects the other one \"\"\"\n",
        "        return self.radius + other.radius > self.distance(other)\n"
      ],
      "metadata": {
        "pycharm": {
          "name": "#%%\n"
        },
        "id": "JzVlJnx0kl7O",
        "ExecuteTime": {
          "end_time": "2023-12-31T02:31:59.009328Z",
          "start_time": "2023-12-31T02:31:59.002235Z"
        }
      }
    },
    {
      "cell_type": "code",
      "execution_count": 38,
      "outputs": [
        {
          "output_type": "stream",
          "name": "stdout",
          "text": [
            "tests passed!!\n"
          ]
        }
      ],
      "source": [
        "# Test Circle class\n",
        "def test_circle():\n",
        "  c1 = Circle(3,(2,4))\n",
        "  c2 = Circle(2,(5,8))\n",
        "  assert c1 != c2 and c1.radius != c2.radius and c1.centre != c2.centre\n",
        "\n",
        "  assert c1.area() == 9 * math.pi\n",
        "  assert c1.distance(c2) == c2.distance(c1)\n",
        "  assert c1.distance(c2) == 5.0\n",
        "  assert c1.intersects(c2) == False\n",
        "  c1.move((1,1))\n",
        "  assert c1.intersects(c2) == True\n",
        "\n",
        "  print('tests passed!!')\n",
        "\n",
        "test_circle()"
      ],
      "metadata": {
        "pycharm": {
          "name": "#%%\n"
        },
        "id": "yAie8rLAkl7P",
        "ExecuteTime": {
          "end_time": "2023-12-31T02:31:59.025360Z",
          "start_time": "2023-12-31T02:31:59.011556Z"
        },
        "outputId": "d21f0228-662a-4555-93f2-d0a0cf05b3a8",
        "colab": {
          "base_uri": "https://localhost:8080/"
        }
      }
    },
    {
      "cell_type": "markdown",
      "source": [
        "## Problem:  Counting\n",
        "When conducting an experiment, it is common to count occurances.  For example\n",
        "\n",
        "* in a physics experiment, we might count the number of atomic collisions in which certain sub-atomic particles were produced\n",
        "* in biology, we might count the number of cells infected by a virus after a fixed time period\n",
        "* in a computational experiment, we might count the frequency with which clusters of a give size form\n",
        "\n",
        "To visualize such experimental results, we would generally plot a histogram, like this:\n"
      ],
      "metadata": {
        "collapsed": false,
        "id": "KgcBUGH4kl7Q"
      }
    },
    {
      "cell_type": "code",
      "source": [
        "# Experiment: Get the age distribution for Cap students\n",
        "n_cap_students = 11500\n",
        "\n",
        "# Simulate getting the age for one Cap student\n",
        "def get_age(student_id):\n",
        "    return int(random.normalvariate(mu=24, sigma=4))  # Normally distributed age with mean of 24 years\n",
        "\n",
        "# Run experiment to obtain the age for each student\n",
        "data = [get_age(id) for id in range(n_cap_students)]\n",
        "\n",
        "# count the number of students in each age class\n",
        "histogram = {}\n",
        "for age in data:\n",
        "    histogram[age] = histogram.get(age, 0) + 1\n",
        "\n",
        "# configure a plot to draw the bar chart in\n",
        "_, ax = plt.subplots()\n",
        "ax.set(\n",
        "    title=\"Age distribution for Cap Students\",\n",
        "    xlabel='Age (years)',\n",
        "    ylabel='Count',\n",
        ")\n",
        "\n",
        "# plot a histogram of the data, divided into n \"equal width\" bins\n",
        "ax.bar(histogram.keys(), histogram.values())\n",
        "plt.show()"
      ],
      "metadata": {
        "id": "HZSz8IftqJ72",
        "ExecuteTime": {
          "end_time": "2023-12-31T02:33:02.083690Z",
          "start_time": "2023-12-31T02:33:01.998264Z"
        },
        "outputId": "4ed665e5-9ee3-4ba0-cff2-dfa5ed99fc59",
        "colab": {
          "base_uri": "https://localhost:8080/",
          "height": 472
        }
      },
      "execution_count": 6,
      "outputs": [
        {
          "output_type": "display_data",
          "data": {
            "text/plain": [
              "<Figure size 640x480 with 1 Axes>"
            ],
            "image/png": "[encoded data removed]"
          },
          "metadata": {}
        }
      ]
    },
    {
      "cell_type": "markdown",
      "source": [
        "## Custom Histogram Class\n",
        "\n",
        "Define our own historgram class that serves as a \"wrapper\" for clunky pyplot ax.hist"
      ],
      "metadata": {
        "id": "naDVayQLkznK"
      }
    },
    {
      "cell_type": "code",
      "source": [
        "class Histogram:\n",
        "    \"\"\" A simple histogram with a nice API \"\"\"\n",
        "    def __init__(self, title, xlabel='Categories', ylabel='Count'):\n",
        "        _, ax = plt.subplots()\n",
        "        ax.set(\n",
        "            title=title,\n",
        "            xlabel=xlabel,\n",
        "            ylabel=ylabel,\n",
        "        )\n",
        "        self.ax = ax\n",
        "        self.counts = {}\n",
        "\n",
        "    def count(self, category):\n",
        "        self.counts[category] = self.counts.get(category, 0) + 1\n",
        "\n",
        "    def plot(self):\n",
        "        self.ax.bar(self.counts.keys(), self.counts.values())\n",
        "        plt.show()"
      ],
      "metadata": {
        "id": "Ai9qb3Bolw4h",
        "ExecuteTime": {
          "end_time": "2023-12-31T02:31:59.205268Z",
          "start_time": "2023-12-31T02:31:59.157995Z"
        }
      },
      "execution_count": 7,
      "outputs": []
    },
    {
      "cell_type": "markdown",
      "source": [
        "### The Power of Abstraction\n",
        "\n",
        "The real benefits appear when we go to use this class to solve the original problem.\n",
        "\n",
        "Notice how creating an \"abstraction\" for a histogram makes it much easier to understand what the computation is doing.  Also notice, the class is \"reusable\" - we can now deploy this abstraction any time we need a histogram!"
      ],
      "metadata": {
        "collapsed": false,
        "id": "mXvr8kGkbsB4"
      }
    },
    {
      "cell_type": "code",
      "execution_count": 8,
      "outputs": [
        {
          "output_type": "display_data",
          "data": {
            "text/plain": [
              "<Figure size 640x480 with 1 Axes>"
            ],
            "image/png": "[encoded data removed]"
          },
          "metadata": {}
        }
      ],
      "source": [
        "hist = Histogram(title='Age Distribution for Cap Students', xlabel='Age (years)')\n",
        "for id in range(n_cap_students):\n",
        "    hist.count(get_age(id))\n",
        "hist.plot()"
      ],
      "metadata": {
        "pycharm": {
          "name": "#%%\n"
        },
        "id": "QxLQc9nokl7T",
        "ExecuteTime": {
          "end_time": "2023-12-31T02:31:59.277250Z",
          "start_time": "2023-12-31T02:31:59.164409Z"
        },
        "outputId": "36d35417-1d83-4092-9fb9-82e74a20d490",
        "colab": {
          "base_uri": "https://localhost:8080/",
          "height": 472
        }
      }
    },
    {
      "cell_type": "code",
      "execution_count": 8,
      "outputs": [],
      "source": [],
      "metadata": {
        "pycharm": {
          "name": "#%%\n"
        },
        "id": "-y3O-TIYkl7T",
        "ExecuteTime": {
          "end_time": "2023-12-31T02:31:59.287332Z",
          "start_time": "2023-12-31T02:31:59.279539Z"
        }
      }
    }
  ]
}