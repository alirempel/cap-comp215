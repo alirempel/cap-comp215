{
  "cells": [
    {
      "cell_type": "markdown",
      "source": [
        "# Physical Models: Percolation\n",
        "Our week 7 workbook, available on Github from the powderflask/cap-comp215 repository.\n",
        "As usual, the first code block just imports the modules we will use."
      ],
      "metadata": {
        "collapsed": false,
        "id": "2lQ_zpxI84U9"
      }
    },
    {
      "cell_type": "code",
      "execution_count": 1,
      "metadata": {
        "collapsed": true,
        "id": "mNMea0GS84U_"
      },
      "outputs": [],
      "source": [
        "%matplotlib inline\n",
        "\n",
        "import time\n",
        "\n",
        "import matplotlib\n",
        "import matplotlib.pyplot as plt\n",
        "from matplotlib import animation\n",
        "import numpy as np\n",
        "from scipy.signal import correlate2d\n",
        "\n",
        "# Configure matplotlib's animation library to work in the browser.\n",
        "matplotlib.rc('animation', html='jshtml')\n",
        "# Remove this to run the notebook with actual random data\n",
        "np.random.seed(18)"
      ]
    },
    {
      "cell_type": "markdown",
      "source": [
        "### Helpers\n",
        "We're starting to collect some useful re-usable bits of code - we should consider putting these in an importable module..."
      ],
      "metadata": {
        "collapsed": false,
        "pycharm": {
          "name": "#%% md\n"
        },
        "id": "ax1cb6uz84VB"
      }
    },
    {
      "cell_type": "code",
      "execution_count": 2,
      "outputs": [],
      "source": [
        "DEFAULT_IMSHOW_OPTIONS = dict(\n",
        "    cmap = 'Blues',\n",
        "    interpolation='none',\n",
        "    origin='upper',\n",
        ")\n",
        "\n",
        "def plot_2D_array(array, axes=None, title='', **options):\n",
        "    \"\"\" Plot the 2D array as an image on the given axes  1's will be dark blue, 0's will be light blue. \"\"\"\n",
        "    axes = axes or plt.gca()   # If not axes are provided, draw on current axes\n",
        "    axes.set_title(title)\n",
        "    axes.set_xticks([], [])  # remove axes tick marks\n",
        "    axes.set_yticks([], [])\n",
        "    options = {**DEFAULT_IMSHOW_OPTIONS, **options}\n",
        "    axes.imshow(array, **options)"
      ],
      "metadata": {
        "pycharm": {
          "name": "#%%\n"
        },
        "id": "HwscJmXd84VB"
      }
    },
    {
      "cell_type": "code",
      "execution_count": 3,
      "outputs": [],
      "source": [
        "class Animation2D:\n",
        "    \"\"\"\n",
        "      Animates any 2D model with a step() method and a draw() method, using matplotlib\n",
        "      model.step() should take no parameters - just step the model forward one step.\n",
        "      model.draw() should take 2 parameters, the matpltolib axes to draw on and an integer step number\n",
        "\n",
        "      See https://www.allendowney.com/blog/2019/07/25/matplotlib-animation-in-jupyter/\n",
        "          for a discussion of the pros and cons of various animation techniques in jupyter notebooks\n",
        "    \"\"\"\n",
        "\n",
        "    def __init__(self, model, frames=50, steps_per_frame=1, figsize=(8, 8)):\n",
        "        \"\"\"\n",
        "        :param model: the simulation object to animate, with step() and draw(axes, step) methods\n",
        "        :param frames: number of animation frames to generate\n",
        "        \"\"\"\n",
        "        self.model = model\n",
        "        self.frames = frames\n",
        "        self.steps_per_frame = steps_per_frame\n",
        "        self.fig, self.ax = plt.subplots(figsize=figsize)\n",
        "\n",
        "    def animation_step(self, step):\n",
        "        \"\"\" Step the model forward and draw the plot \"\"\"\n",
        "        if step > 0:\n",
        "            for _ in range(self.steps_per_frame):\n",
        "                self.model.step()\n",
        "        self.model.draw(self.ax, step=step*self.steps_per_frame)\n",
        "\n",
        "    def show(self):\n",
        "        \"\"\" return the matplotlib animation object, ready for display \"\"\"\n",
        "        anim = animation.FuncAnimation(self.fig, self.animation_step, frames=self.frames)\n",
        "        plt.close()  # this ensures the last frame is not shown as a separate plot\n",
        "        return anim\n",
        "\n",
        "    def animate(self, interval=None):\n",
        "        \"\"\" Animate the model simulation directly in the notebook display block \"\"\"\n",
        "        from IPython.display import clear_output\n",
        "        try:\n",
        "            for i in range(self.frames):\n",
        "                clear_output(wait=True)  # clear the IPython display\n",
        "                self.ax.clear()          # clear old image from the axes (fixes a performance issue)\n",
        "                plt.figure(self.fig)     # add the figure back to pyplot ** sigh **\n",
        "                self.animation_step(i)\n",
        "                plt.show()               # show the current animation frame (pyplot then closes and throws away figure ** sigh **)\n",
        "                if interval:\n",
        "                    time.sleep(interval)\n",
        "        except KeyboardInterrupt:\n",
        "            pass"
      ],
      "metadata": {
        "pycharm": {
          "name": "#%%\n"
        },
        "id": "DxvBMYpA84VB"
      }
    },
    {
      "cell_type": "markdown",
      "source": [
        "## Simple Percolation Model\n",
        "  Percolation refers to the movement and filtering of fluids through porous materials. Broad applications have been developed in physics, chemistry, and materials science, based on connectivity in systems modeled as lattices or graphs. [wikipedia](https://en.wikipedia.org/wiki/Percolation)\n",
        "\n",
        "In the percolation model below, a 2D block of material is made up of cells where each cell is either porous or non-porous.\n",
        "We start with a row of wet cells at the top. During each time step, a cell becomes wet if it is porous and at least one neighbor is wet (using a 4-cell neighborhood). If water reaches the bottom row then the percolation cluster is permeable otherwise impermeable.\n",
        "\n",
        "Porous cells have state 1 and wet cells have state 5, so if a cell has a wet neighbor, the sum of the neighbors will by 5 or more."
      ],
      "metadata": {
        "collapsed": false,
        "pycharm": {
          "name": "#%% md\n"
        },
        "id": "4nyOTO8e84VC"
      }
    },
    {
      "cell_type": "code",
      "execution_count": 4,
      "outputs": [],
      "source": [
        "class Percolation:\n",
        "    \"\"\" Percolation CA, representing a grid of porous and non-porous cells. \"\"\"\n",
        "    NONPOROUS = 0\n",
        "    POROUS = 1\n",
        "    WET = 5\n",
        "\n",
        "    # Diffuse only to cardinal neighbours\n",
        "    kernel = np.array([[0,  1, 0],\n",
        "                       [1,  0, 1 ],\n",
        "                       [0,  1, 0]])\n",
        "\n",
        "    def __init__(self, n, q=0.5):\n",
        "        \"\"\" Initializes nxn model with porous cells occurring with probability q\n",
        "            n: number of rows / cols in the grid\n",
        "            q: probability of a cell being porous\n",
        "        \"\"\"\n",
        "        self.q = q\n",
        "        self.array = np.random.choice([self.POROUS, self.NONPOROUS], (n, n), p=[q, 1-q])\n",
        "\n",
        "        # fill the top row with wet cells\n",
        "        self.array[0] = self.WET\n",
        "\n",
        "    def step(self):\n",
        "        \"\"\" Simulate one time step. \"\"\"\n",
        "        c = correlate2d(self.array, self.kernel, mode='same')\n",
        "        wet = (self.array==self.POROUS) & (c>=self.WET)  # porous cells that have at least one wet neighbour\n",
        "        self.array[wet] = self.WET\n",
        "\n",
        "    def num_wet(self):\n",
        "        \"\"\"Total number of wet cells.\"\"\"\n",
        "        return np.sum(self.array == self.WET)\n",
        "\n",
        "    def bottom_row_wet(self):\n",
        "        \"\"\"Number of wet cells in the bottom row.\"\"\"\n",
        "        return np.sum(self.array[-1] == self.WET)\n",
        "\n",
        "    def simulate(self):\n",
        "        \"\"\"\n",
        "        Run percolation simulation until either water reaches bottom row or percolation stops\n",
        "        Return a tuple, (percs, n_steps) True iff the models block percolates from top to bottom after n_steps\n",
        "        \"\"\"\n",
        "        n_wet = [0, self.num_wet(),]  # a list of # cells wet in each timestep.\n",
        "        def still_percolating():\n",
        "            \"\"\" Return true if model is still percolating, i.e. # wet at time t-1 > # wet at t-2 \"\"\"\n",
        "            return n_wet[-1] > n_wet[-2]\n",
        "\n",
        "        while not self.bottom_row_wet() and still_percolating():\n",
        "            self.step()\n",
        "            n_wet.append(self.num_wet())\n",
        "\n",
        "        return bool(self.bottom_row_wet()), len(n_wet)-1\n",
        "\n",
        "    def is_permeable(self):\n",
        "        \"\"\"\n",
        "        Return True iff the models block percolates from top to bottom\n",
        "        \"\"\"\n",
        "        return self.simulate()[0]\n",
        "\n",
        "    def reset(self):\n",
        "        \"\"\" Reset all WET cells back to permeable and wet the top row again. \"\"\"\n",
        "        self.array[self.array==self.WET] = self.POROUS\n",
        "        self.array[0] = self.WET\n",
        "\n",
        "    def draw(self, axes=None, step=''):\n",
        "        \"\"\"Draws the cells on given axes.\"\"\"\n",
        "        axes = axes or plt.gca()  # use current axes if none are provided.\n",
        "        plot_2D_array(self.array, axes, cmap='Reds', title=f'Percolation {step}')"
      ],
      "metadata": {
        "pycharm": {
          "name": "#%%\n"
        },
        "id": "_cvaw-aR84VC"
      }
    },
    {
      "cell_type": "markdown",
      "source": [
        "Here's example showing a percolation simulation in 3 states..."
      ],
      "metadata": {
        "collapsed": false,
        "pycharm": {
          "name": "#%% md\n"
        },
        "id": "_49xWFKb84VC"
      }
    },
    {
      "cell_type": "code",
      "execution_count": 5,
      "outputs": [
        {
          "output_type": "stream",
          "name": "stderr",
          "text": [
            "<ipython-input-5-1bd786c9f478>:5: MatplotlibDeprecationWarning: Auto-removal of overlapping axes is deprecated since 3.6 and will be removed two minor releases later; explicitly call ax.remove() as needed.\n",
            "  plt.subplot(1, 4, step)\n"
          ]
        },
        {
          "output_type": "stream",
          "name": "stdout",
          "text": [
            "Model percolates after 10 steps.\n"
          ]
        },
        {
          "output_type": "display_data",
          "data": {
            "text/plain": [
              "<Figure size 2000x500 with 4 Axes>"
            ],
            "image/png": "[encoded data removed]"
          },
          "metadata": {}
        }
      ],
      "source": [
        "perc = Percolation(n=10, q=0.7)\n",
        "\n",
        "fig, ax = plt.subplots(figsize=(20, 5))\n",
        "for step in range(1, 4):\n",
        "    plt.subplot(1, 4, step)\n",
        "    perc.step()\n",
        "    perc.draw(step=step)\n",
        "\n",
        "perc.reset()\n",
        "percs, n_step = perc.simulate()\n",
        "plt.subplot(1, 4, 4)\n",
        "perc.draw(step=n_step)\n",
        "\n",
        "print(f'Model {\"percolates\" if percs else \"does not percolate\"} after {n_step} steps.')"
      ],
      "metadata": {
        "pycharm": {
          "name": "#%%\n"
        },
        "id": "jiRsPi2I84VC",
        "outputId": "5e42e7aa-e35b-427e-b8ec-0cd9a96dad05",
        "colab": {
          "base_uri": "https://localhost:8080/",
          "height": 368
        }
      }
    },
    {
      "cell_type": "markdown",
      "source": [
        "## Experiments: Probability of Percolating\n",
        "For any given value of $q$ we might ask: what is the likelihood that such a percolation cluster is permeable?"
      ],
      "metadata": {
        "collapsed": false,
        "pycharm": {
          "name": "#%% md\n"
        },
        "id": "9LXJ_f-K84VD"
      }
    },
    {
      "cell_type": "code",
      "execution_count": 9,
      "outputs": [],
      "source": [
        "def proportion_percolating(n=100, q=0.5, iters=100):\n",
        "    \"\"\"Estimates the probability of percolating at a given value of q.\n",
        "\n",
        "    n: int number of rows and columns\n",
        "    q: probability that a cell is permeable\n",
        "    iters: number of random percolation clusters to test\n",
        "\n",
        "    returns: float proportion of percolating clusters that were permeable.\n",
        "    \"\"\"\n",
        "    results = [Percolation(n, q).is_permeable() for i in range(iters)]\n",
        "    return np.mean(results)"
      ],
      "metadata": {
        "pycharm": {
          "name": "#%%\n"
        },
        "id": "iE_Q-mlg84VE"
      }
    },
    {
      "cell_type": "code",
      "execution_count": 11,
      "outputs": [
        {
          "output_type": "execute_result",
          "data": {
            "text/plain": [
              "'At q=0.55, the probability of percolating is 0.0.'"
            ],
            "application/vnd.google.colaboratory.intrinsic+json": {
              "type": "string"
            }
          },
          "metadata": {},
          "execution_count": 11
        }
      ],
      "source": [
        "q = 0.55\n",
        "f'At q={q}, the probability of percolating is {proportion_percolating(q=q)}.'"
      ],
      "metadata": {
        "pycharm": {
          "name": "#%%\n"
        },
        "id": "jDB-CloR84VE",
        "outputId": "cf930161-9bd5-47c4-b577-5cb8c55fe3ab",
        "colab": {
          "base_uri": "https://localhost:8080/",
          "height": 35
        }
      }
    },
    {
      "cell_type": "code",
      "execution_count": 12,
      "outputs": [
        {
          "output_type": "execute_result",
          "data": {
            "text/plain": [
              "'At q=0.65, the probability of percolating is 1.0.'"
            ],
            "application/vnd.google.colaboratory.intrinsic+json": {
              "type": "string"
            }
          },
          "metadata": {},
          "execution_count": 12
        }
      ],
      "source": [
        "q = 0.65\n",
        "f'At q={q}, the probability of percolating is {proportion_percolating(q=q)}.'"
      ],
      "metadata": {
        "pycharm": {
          "name": "#%%\n"
        },
        "id": "MRLd8uuY84VF",
        "outputId": "2df9c304-ec6e-4269-822a-2848deb9cb3b",
        "colab": {
          "base_uri": "https://localhost:8080/",
          "height": 35
        }
      }
    },
    {
      "cell_type": "markdown",
      "source": [
        "### Critical Value of $q$\n",
        "Somewhere in this range there is a **\"critical value\"** of $q$ where the likelihood of percolating rapidly changes from near 0 to near 1!\n",
        "\n",
        "If we can fit a mathematical model to the simulation data, we could derive the point of maximum slope on this curve..."
      ],
      "metadata": {
        "collapsed": false,
        "id": "wUDr5LnD84VF"
      }
    },
    {
      "cell_type": "code",
      "execution_count": 14,
      "outputs": [
        {
          "output_type": "display_data",
          "data": {
            "text/plain": [
              "<Figure size 640x480 with 1 Axes>"
            ],
            "image/png": "[encoded data removed]"
          },
          "metadata": {}
        },
        {
          "output_type": "stream",
          "name": "stdout",
          "text": [
            "CPU times: user 17.5 s, sys: 76.5 ms, total: 17.6 s\n",
            "Wall time: 18.2 s\n"
          ]
        }
      ],
      "source": [
        "def plot_prop_percolating(n=50, qs=np.arange(0.50, .70, 0.01), iters=100):\n",
        "    \"\"\" Plot the proportion of percolating n x n clusters for a range of values of q \"\"\"\n",
        "\n",
        "    ps = []  # proportion of trials that percolated for blocks with parameter q\n",
        "    for q in qs:\n",
        "        ps.append( proportion_percolating(n, q=q, iters=iters) )\n",
        "\n",
        "    plt.plot(qs, ps)\n",
        "    title=f'Percolation Trials w/ Grid Size: {n}'\n",
        "    plt.gca().set(title=title, xlabel='q', ylabel = 'proportion percolating')\n",
        "    plt.show()\n",
        "\n",
        "%time plot_prop_percolating()"
      ],
      "metadata": {
        "pycharm": {
          "name": "#%%\n"
        },
        "id": "cHWawAra84VF",
        "outputId": "eceaf718-8400-469a-e5af-3a11ae735076",
        "colab": {
          "base_uri": "https://localhost:8080/",
          "height": 507
        }
      }
    },
    {
      "cell_type": "markdown",
      "source": [
        "or we could try honing in on the critical value with the children's game of warmer / colder..."
      ],
      "metadata": {
        "collapsed": false,
        "pycharm": {
          "name": "#%% md\n"
        },
        "id": "5WCsWzT584VF"
      }
    },
    {
      "cell_type": "code",
      "execution_count": 15,
      "outputs": [],
      "source": [
        "def find_critical(grid_size=100, q=(0.61+0.56)/2, n_trials=100):\n",
        "    \"\"\"Estimate critical value of q via random walk algorithm.\n",
        "\n",
        "    returns: list of q that \"wander around\" q's critical value\n",
        "    \"\"\"\n",
        "    qs = [q]\n",
        "    for i in range(n_trials):\n",
        "        perc = Percolation(grid_size, q)\n",
        "        if perc.is_permeable():\n",
        "            q -= 0.005\n",
        "        else:\n",
        "            q += 0.005\n",
        "        qs.append(q)\n",
        "    return qs"
      ],
      "metadata": {
        "pycharm": {
          "name": "#%%\n"
        },
        "id": "plcLIlDv84VF"
      }
    },
    {
      "cell_type": "code",
      "execution_count": 17,
      "outputs": [
        {
          "output_type": "execute_result",
          "data": {
            "text/plain": [
              "'Mean Critical value of q ~0.5905 for grid size: 100'"
            ],
            "application/vnd.google.colaboratory.intrinsic+json": {
              "type": "string"
            }
          },
          "metadata": {},
          "execution_count": 17
        }
      ],
      "source": [
        "grid_size = 100\n",
        "qs = find_critical(grid_size)\n",
        "f'Mean Critical value of q ~{np.mean(qs):0.4f} for grid size: {grid_size}'"
      ],
      "metadata": {
        "pycharm": {
          "name": "#%%\n"
        },
        "id": "ijtDzqs484VG",
        "outputId": "d76f9751-5ff7-4eef-c13e-0e9751377d55",
        "colab": {
          "base_uri": "https://localhost:8080/",
          "height": 35
        }
      }
    },
    {
      "cell_type": "markdown",
      "source": [
        "Let's visualize the variation we get across trials of the random walk algorithm, and determine if grid size has any influence..."
      ],
      "metadata": {
        "collapsed": false,
        "pycharm": {
          "name": "#%% md\n"
        },
        "id": "-1M3CyCG84VG"
      }
    },
    {
      "cell_type": "code",
      "execution_count": null,
      "outputs": [],
      "source": [
        "def plot_trials(grid_size, n_trials):\n",
        "    \"\"\" Plot given number of trials on given grid size to find critical value of q \"\"\"\n",
        "    qs = find_critical(grid_size, n_trials=n_trials)\n",
        "\n",
        "    plt.scatter(range(len(qs)), qs)\n",
        "    title = f'q_crit={np.mean(qs):0.3f} after {n_trials} Precolation Trials w/ Grid Size: {grid_size}'\n",
        "    plt.gca().set(title=title, xlabel = 'Trial #', ylabel = 'Estimated q_crit')\n",
        "    plt.show()"
      ],
      "metadata": {
        "pycharm": {
          "name": "#%%\n"
        },
        "id": "AGjXUxg184VG"
      }
    },
    {
      "cell_type": "code",
      "execution_count": null,
      "outputs": [
        {
          "data": {
            "text/plain": "<Figure size 432x288 with 1 Axes>",
            "image/png": "[encoded data removed]"
          },
          "metadata": {
            "needs_background": "light"
          },
          "output_type": "display_data"
        },
        {
          "name": "stdout",
          "output_type": "stream",
          "text": [
            "CPU times: user 2.91 s, sys: 133 ms, total: 3.05 s\n",
            "Wall time: 2.92 s\n"
          ]
        }
      ],
      "source": [
        "%time plot_trials(grid_size=50, n_trials=200)"
      ],
      "metadata": {
        "pycharm": {
          "name": "#%%\n"
        },
        "id": "DxE12qsG84VG",
        "outputId": "e9b2f938-da91-4b21-f98e-602bf5538967"
      }
    },
    {
      "cell_type": "code",
      "execution_count": null,
      "outputs": [
        {
          "data": {
            "text/plain": "<Figure size 432x288 with 1 Axes>",
            "image/png": "[encoded data removed]"
          },
          "metadata": {
            "needs_background": "light"
          },
          "output_type": "display_data"
        },
        {
          "name": "stdout",
          "output_type": "stream",
          "text": [
            "CPU times: user 6.9 s, sys: 195 ms, total: 7.1 s\n",
            "Wall time: 6.99 s\n"
          ]
        }
      ],
      "source": [
        "%time plot_trials(grid_size=100, n_trials=100)"
      ],
      "metadata": {
        "pycharm": {
          "name": "#%%\n"
        },
        "id": "7ZA5vz2k84VG",
        "outputId": "66c7b933-5a8a-40e6-9b7e-727f9ccf5394"
      }
    },
    {
      "cell_type": "code",
      "execution_count": null,
      "outputs": [
        {
          "data": {
            "text/plain": "<Figure size 432x288 with 1 Axes>",
            "image/png": "[encoded data removed]"
          },
          "metadata": {
            "needs_background": "light"
          },
          "output_type": "display_data"
        },
        {
          "name": "stdout",
          "output_type": "stream",
          "text": [
            "CPU times: user 22.1 s, sys: 285 ms, total: 22.4 s\n",
            "Wall time: 22.4 s\n"
          ]
        }
      ],
      "source": [
        "%time plot_trials(grid_size=200, n_trials=50)"
      ],
      "metadata": {
        "pycharm": {
          "name": "#%%\n"
        },
        "id": "kdiGADFt84VH",
        "outputId": "02dbb509-61ed-4b6a-a8b9-0473102a5e42"
      }
    },
    {
      "cell_type": "markdown",
      "source": [
        "### Epilogue: what just happend?\n",
        "We confirmed there appears to be scale-invariant property of percolation blocks:\n",
        "If porous and non-porous cells in the block are distributed at random, with probability $q$, then at a critical value of $q ~= 0.59$ there is a **\"phase change\"** from impermeable to permeable.\n",
        "\n",
        "#### Questions to ponder\n",
        " * how is this system similar to the E-R graphs we studied in Lab 4?\n",
        " * how would you model the percolation system with a graph?\n",
        " * would you expect similar experimental results using a graph instead of a CA?\n",
        " * which method of simulating this system likely yields a more time-efficient (faster) solution?"
      ],
      "metadata": {
        "collapsed": false,
        "pycharm": {
          "name": "#%% md\n"
        },
        "id": "5wS7TzrL84VH"
      }
    },
    {
      "cell_type": "code",
      "execution_count": null,
      "outputs": [],
      "source": [],
      "metadata": {
        "pycharm": {
          "name": "#%%\n"
        },
        "id": "TQm2aQGw84VH"
      }
    }
  ],
  "metadata": {
    "kernelspec": {
      "display_name": "Python 3",
      "language": "python",
      "name": "python3"
    },
    "language_info": {
      "codemirror_mode": {
        "name": "ipython",
        "version": 2
      },
      "file_extension": ".py",
      "mimetype": "text/x-python",
      "name": "python",
      "nbconvert_exporter": "python",
      "pygments_lexer": "ipython2",
      "version": "2.7.6"
    },
    "colab": {
      "provenance": []
    }
  },
  "nbformat": 4,
  "nbformat_minor": 0
}