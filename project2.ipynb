{
  "nbformat": 4,
  "nbformat_minor": 0,
  "metadata": {
    "colab": {
      "provenance": [],
      "authorship_tag": "ABX9TyOqwuc/gkIS/XuEH9glmoUq",
      "include_colab_link": true
    },
    "kernelspec": {
      "name": "python3",
      "display_name": "Python 3"
    },
    "language_info": {
      "name": "python"
    }
  },
  "cells": [
    {
      "cell_type": "markdown",
      "metadata": {
        "id": "view-in-github",
        "colab_type": "text"
      },
      "source": [
        "<a href=\"https://colab.research.google.com/github/alirempel/cap-comp215/blob/main/project2.ipynb\" target=\"_parent\"><img src=\"https://colab.research.google.com/assets/colab-badge.svg\" alt=\"Open In Colab\"/></a>"
      ]
    },
    {
      "cell_type": "markdown",
      "source": [
        "#**Project 2: Deer Park Model**\n",
        "###**Author: Alison Rempel**\n",
        "###**Date: 2024-04-09**\n",
        "\n",
        "Deer park simulates"
      ],
      "metadata": {
        "id": "12OQilupm5xS"
      }
    },
    {
      "cell_type": "markdown",
      "source": [
        "Below are the imported modules:"
      ],
      "metadata": {
        "id": "OUzveMTVnfyI"
      }
    },
    {
      "cell_type": "code",
      "execution_count": 150,
      "metadata": {
        "collapsed": true,
        "id": "a2DIEv9gcyLQ"
      },
      "outputs": [],
      "source": [
        "%matplotlib inline\n",
        "\n",
        "import time\n",
        "\n",
        "import matplotlib\n",
        "import matplotlib.pyplot as plt\n",
        "import numpy as np\n",
        "from matplotlib import animation\n",
        "import random\n",
        "\n",
        "# Configure matplotlib's animation library to work in the browser.\n",
        "matplotlib.rc('animation', html='jshtml')"
      ]
    },
    {
      "cell_type": "code",
      "execution_count": 151,
      "outputs": [],
      "source": [
        "# Qualitative colour map with value 0 set to white\n",
        "tab20_mod = matplotlib.colormaps['tab20']\n",
        "tab20_mod.colors = ((1,1,1,1), *tab20_mod.colors[1:])\n",
        "\n",
        "def plot_2d_array(array, axes=None, title='', cmap=tab20_mod, **options):\n",
        "    \"\"\"\n",
        "    Plot the 2D array as an image on the given axes  1's will be dark blue, 0's will be light blue.\n",
        "\n",
        "    :param axes: the axes to plot on, or None to use the `plt.gca()` (current axes)\n",
        "    :param options: keyword arguments passed directly to `plt.imshow()`\n",
        "           see https://matplotlib.org/stable/api/_as_gen/matplotlib.axes.Axes.imshow.html\n",
        "    \"\"\"\n",
        "    axes = axes or plt.gca()  # If not axes are provided, draw on current axes\n",
        "    axes.set_title(title)\n",
        "    # Turn off axes labels and tick marks\n",
        "    axes.tick_params(axis='both', which='both', bottom=False, top=False, left=False, right=False ,\n",
        "                     labelbottom=False, labeltop=False, labelleft=False, labelright=False,)\n",
        "    # Defaults for displaying a \"matrix\" with hard-pixel boundaries and (0,0) at top-left\n",
        "    options = {**dict(interpolation='nearest', origin='upper'), **options}\n",
        "    axes.imshow(array, cmap=cmap, **options)"
      ],
      "metadata": {
        "id": "3sCzoevwcyLT"
      }
    },
    {
      "cell_type": "code",
      "execution_count": 152,
      "outputs": [],
      "source": [
        "class Animation2D:\n",
        "    \"\"\"\n",
        "      Animates any 2D model with a step() method and a draw() method, using matplotlib\n",
        "      model.step() should take no parameters - just step the model forward one step.\n",
        "      model.draw() should take 2 parameters, the matpltolib axes to draw on and an integer step number\n",
        "\n",
        "      See https://www.allendowney.com/blog/2019/07/25/matplotlib-animation-in-jupyter/\n",
        "          for a discussion of the pros and cons of various animation techniques in jupyter notebooks\n",
        "    \"\"\"\n",
        "\n",
        "    def __init__(self, model, frames=50, steps_per_frame=1, figsize=(8, 8)):\n",
        "        \"\"\"\n",
        "        :param model: the simulation object to animate, with step() and draw(axes, step) methods\n",
        "        :param frames: number of animation frames to generate\n",
        "        \"\"\"\n",
        "        self.model = model\n",
        "        self.frames = frames\n",
        "        self.steps_per_frame = steps_per_frame\n",
        "        self.fig, self.ax = plt.subplots(figsize=figsize)\n",
        "\n",
        "    def animation_step(self, step):\n",
        "        \"\"\" Step the model forward and draw the plot \"\"\"\n",
        "        if step > 0:\n",
        "            for _ in range(self.steps_per_frame):\n",
        "                self.model.step()\n",
        "        self.model.draw(self.ax, step=step * self.steps_per_frame)\n",
        "\n",
        "    def show(self):\n",
        "        \"\"\" return the matplotlib animation object, ready for display \"\"\"\n",
        "        anim = animation.FuncAnimation(self.fig, self.animation_step, frames=self.frames)\n",
        "        plt.close()  # this ensures the last frame is not shown as a separate plot\n",
        "        return anim\n",
        "\n",
        "    def animate(self, interval=None):\n",
        "        \"\"\" Animate the model simulation directly in the notebook display block \"\"\"\n",
        "        from IPython.display import clear_output\n",
        "        try:\n",
        "            for i in range(self.frames):\n",
        "                clear_output(wait=True)  # clear the IPython display\n",
        "                self.ax.clear()  # clear old image from the axes (fixes a performance issue)\n",
        "                plt.figure(self.fig)  # add the figure back to pyplot ** sigh **\n",
        "                self.animation_step(i)\n",
        "                plt.show()  # show the current animation frame (pyplot then closes and throws away figure ** sigh **)\n",
        "                if interval:\n",
        "                    time.sleep(interval)\n",
        "        except KeyboardInterrupt:\n",
        "            pass"
      ],
      "metadata": {
        "id": "sUFirn6YcyLU"
      }
    },
    {
      "cell_type": "code",
      "source": [
        "def make_locations(n, m):\n",
        "    \"\"\" Return list of (x, y) coordinates for all locations on n x m grid \"\"\"\n",
        "    return [(i, j) for i in range(n) for j in range(m)]"
      ],
      "metadata": {
        "id": "NRDgoj1jphL0"
      },
      "execution_count": 153,
      "outputs": []
    },
    {
      "cell_type": "code",
      "source": [
        "class Deer:\n",
        "    \"\"\" Represent one deer object \"\"\"\n",
        "    max_weight=50\n",
        "    initial_weight=20\n",
        "    weight_gain=1\n",
        "    weight_loss=1\n",
        "\n",
        "    def __init__(self, loc=(0,0), weight=initial_weight):\n",
        "        \"\"\"Creates a new deer at the given location.\n",
        "\n",
        "        loc: (x,y) tuple coordinate\n",
        "        weight:\n",
        "        \"\"\"\n",
        "        self.loc = tuple(loc)\n",
        "        self.weight = weight\n",
        "\n",
        "    @classmethod\n",
        "    def make_deer(cls, num_deer, n):\n",
        "        \"\"\" Factory: return a list Deer objects at random locations in n x m grid \"\"\"\n",
        "        # all (x,y) locations in an n x n grid...\n",
        "        locations = make_locations(n, n)\n",
        "        assert num_deer <= len(locations)  # verify pre-condition: there are enough locations for all deer\n",
        "        # randomize the locations and construct the desired number of deer at random locations\n",
        "        np.random.shuffle(locations)\n",
        "        return [cls(locations[i]) for i in range(num_deer)]\n",
        "\n",
        "    def visible_locations(self,x,y):\n",
        "        \"\"\"Return a list of (x,y) cell coordinates that are \"visible\" to the deer \"\"\"\n",
        "        neighbours = [(x-1, y), (x+1, y), (x, y-1), (x, y+1)]\n",
        "        return neighbours\n",
        "\n",
        "    def next_cell(self, env):\n",
        "        \"\"\"Picks neighbouring cell without deer.\n",
        "\n",
        "        env: the grass area the deer lives in\n",
        "        returns: tuple, coordinates of random neighbouring cell without deer\n",
        "        \"\"\"\n",
        "        # find all empty, visible cells, \"wrapping\" vision around edges of environment\n",
        "        visible_locs = env.wrap_locations( self.visible_locations(*self.loc) )\n",
        "        empty_locs = env.get_empty_locations(visible_locs)\n",
        "        if len(empty_locs) == 0:\n",
        "          return self.loc\n",
        "\n",
        "        return random.choices(empty_locs)[0]\n",
        "\n",
        "    def step(self, env):\n",
        "        \"\"\"Look around, move, and graze.\n",
        "\n",
        "        env: Environment object\n",
        "        \"\"\"\n",
        "        self.loc = self.next_cell(env)\n",
        "\n",
        "        if env.state[self.loc]==env.OCCUPIED:\n",
        "            self.weight += self.weight_gain\n",
        "            env.graze(self.loc)\n",
        "        else:\n",
        "            self.weight -= self.weight_loss\n",
        "\n",
        "    def is_starving(self):\n",
        "        \"\"\"Checks if weight has gone below 0.\"\"\"\n",
        "        return self.weight <= 0"
      ],
      "metadata": {
        "id": "lwXirxwPdS6q"
      },
      "execution_count": 177,
      "outputs": []
    },
    {
      "cell_type": "code",
      "execution_count": 178,
      "outputs": [],
      "source": [
        "class Environment:\n",
        "    \"\"\"Represents an environment with grazing deer.\"\"\"\n",
        "\n",
        "    EMPTY = 0\n",
        "    OCCUPIED = 1\n",
        "\n",
        "    # Define a colour map that maps each cell state to an intuitive colour.\n",
        "    cmap = [(1, 0.5, 0), (0, 1, 0), (0, 0, 0), (0, 0, 0), (0, 0, 0), (1, 0, 0)]\n",
        "    cmap[EMPTY] = (1, 0.5, 0)  # brown\n",
        "    cmap[OCCUPIED] = (0, 1, 0)  # green\n",
        "    env_colour_map = matplotlib.colors.ListedColormap(cmap)\n",
        "\n",
        "    def __init__(self, n, deers, p=.01,q=.5):\n",
        "        \"\"\"Initializes the attributes.\n",
        "\n",
        "        n: number of rows and columns\n",
        "        deers: iterable of deer, with random locations on (n, n) (used 'deers' because I needed some way to represent more than one deer)\n",
        "        p: probability empty cell grows grass\n",
        "        q: initial grass density (probability cell has grass (is occupied) in initial state)\n",
        "        \"\"\"\n",
        "        assert(len(deers) <= n**2)  # can't have more deer than there are grid cells\n",
        "\n",
        "        self.n = n\n",
        "        self.deers = deers\n",
        "        self.p = p\n",
        "        self.state = np.random.choice([self.OCCUPIED, self.EMPTY], (n, n), p=[q, 1 - q])\n",
        "        # keep track of which cells are unoccupied\n",
        "        self.unoccupied = set(make_locations(n, n)) - set(deer.loc for deer in self.deers)\n",
        "\n",
        "\n",
        "    def wrap_locations(self, locations):\n",
        "        \"\"\" return listt of (x,y) locations, where each location is \"wrapped\" so it falls within the grid\n",
        "\n",
        "        locations: iterable of 2-tuple (x,y) locations, some of which may fall outside grid dimensions\n",
        "        \"\"\"\n",
        "        return [(x%self.n, y%self.n) for x,y in locations]\n",
        "\n",
        "    def get_empty_locations(self, locations):\n",
        "        \"\"\" select and return list locations that are unoccupied \"\"\"\n",
        "        return [loc for loc in locations if loc in self.unoccupied]\n",
        "\n",
        "    def grow(self):\n",
        "        \"\"\" grow grass in cells\"\"\"\n",
        "        self.state[self.state == self.EMPTY] = np.random.choice([self.OCCUPIED,self.EMPTY], len(self.state[self.state==self.EMPTY]), 1, (self.p, 1-self.p))\n",
        "\n",
        "    def graze(self, loc):\n",
        "        \"\"\" remove grass from the given location \"\"\"\n",
        "        self.state[loc] = self.EMPTY\n",
        "\n",
        "    def num_occupied(self):\n",
        "        \"\"\" return the number of cells occupied by grass \"\"\"\n",
        "        return len(self.state[self.state == self.OCCUPIED])\n",
        "\n",
        "    def pct_occupied(self):\n",
        "        \"\"\" return the proportion of cells occupied by grass \"\"\"\n",
        "        return self.num_occupied() / self.state.size\n",
        "\n",
        "    def deer_population(self):\n",
        "      \"\"\" return deer population \"\"\"\n",
        "      return len(self.deers)\n",
        "\n",
        "    def step(self):\n",
        "        \"\"\" Execute one time step. \"\"\"\n",
        "        # grow back some grass\n",
        "        self.grow()\n",
        "        # loop through the deers in random order\n",
        "        for deer in np.random.permutation(self.deers):\n",
        "            # mark the deer's cell unoccupied and allow them to \"step\" to new location\n",
        "            self.unoccupied.add(deer.loc)\n",
        "            deer.step(self)\n",
        "\n",
        "            # if the deer is dead, remove from model\n",
        "            if deer.is_starving():\n",
        "                self.deers.remove(deer)\n",
        "            else:\n",
        "                # otherwise mark its new cell as occupied\n",
        "                self.unoccupied.remove(deer.loc)\n",
        "\n",
        "        return len(self.deers)\n",
        "\n",
        "    def draw(self, axes=None, step=''):\n",
        "        \"\"\"Draws the environment with deer\"\"\"\n",
        "        axes = axes or plt.gca()\n",
        "        title = f'Time:{step} Deer population: {self.deer_population()}'\n",
        "        plot_2d_array(self.state, axes=axes, title=title, cmap=self.env_colour_map, vmin=0, vmax=len(self.env_colour_map.colors))\n",
        "        if self.deers:\n",
        "            self._draw_deers()\n",
        "\n",
        "    def _draw_deers(self):\n",
        "        \"\"\" Draw the deers in centre of cell they occupy \"\"\"\n",
        "        # Transform from (col, row) to centre (x, y) of cell coordinate.\n",
        "        rows, cols = np.transpose([deer.loc for deer in self.deers])\n",
        "        xs = cols\n",
        "        ys = rows\n",
        "        plt.plot(xs, ys, '.', color='brown',markersize=400//self.n) # make deer size relative to size of grid\n"
      ],
      "metadata": {
        "pycharm": {
          "name": "#%%\n"
        },
        "id": "pmPdcU3YuVjP"
      }
    },
    {
      "cell_type": "code",
      "source": [
        "p = .1\n",
        "q = .5\n",
        "n = 10\n",
        "n_deer = 20\n",
        "time_steps = 50"
      ],
      "metadata": {
        "id": "5Ul-M4YhrKd0"
      },
      "execution_count": 180,
      "outputs": []
    },
    {
      "cell_type": "code",
      "source": [
        "deer_list = Deer.make_deer(num_deer=n_deer,n=n)\n",
        "deer_model = Environment(n=n,deers=deer_list,p=p,q=q)\n",
        "deer_animation = Animation2D(deer_model,frames=time_steps)\n",
        "deer_animation.animate(interval=.5)"
      ],
      "metadata": {
        "colab": {
          "base_uri": "https://localhost:8080/",
          "height": 675
        },
        "id": "bdwi8xQAMh_y",
        "outputId": "0fd6d2e7-954a-4295-e783-13e590e22455"
      },
      "execution_count": 181,
      "outputs": [
        {
          "output_type": "display_data",
          "data": {
            "text/plain": [
              "<Figure size 800x800 with 1 Axes>"
            ],
            "image/png": "[encoded data removed]"
          },
          "metadata": {}
        }
      ]
    },
    {
      "cell_type": "code",
      "source": [
        "def experiment(n,deers,p,q,steps):\n",
        "  \"\"\"\n",
        "  Plot the number of deer cells for every time step\n",
        "  \"\"\"\n",
        "  deers = Deer.make_deer(num_deer=deers,n=n)\n",
        "  model = Environment(n=n,deers=deers,p=p,q=q)\n",
        "  deer_pop = []\n",
        "\n",
        "  for step in range(steps):\n",
        "    model.step()\n",
        "    deer_pop.append(model.deer_population())\n",
        "\n",
        "\n",
        "  plt.plot(range(steps), deer_pop)\n",
        "  plt.show()\n",
        "\n",
        "experiment(n=100, p=0.1, deers=100, q=0.5, steps=1000)\n",
        "\n",
        "\n",
        "\n",
        "def surviving_population(n,deers,p,q,trials):\n",
        "\n",
        "  deers = Deer.make_deer(num_deer=deers,n=n)\n",
        "  model = Environment(n=n,deers=deers,p=p,q=q)\n",
        "\n",
        "  for step in range(trials):\n",
        "    model.step()\n",
        "    deers_left = model.deer_population()\n",
        "    if deers_left == 0:\n",
        "      return 0\n",
        "\n",
        "  return deers_left\n",
        "\n",
        "\n",
        "  plt.plot(range(steps), deer_pop)\n",
        "  plt.show()"
      ],
      "metadata": {
        "id": "QX7iL6IyqPAz",
        "outputId": "482781f1-ed31-4131-f54b-09d58904fa43",
        "colab": {
          "base_uri": "https://localhost:8080/",
          "height": 430
        }
      },
      "execution_count": 195,
      "outputs": [
        {
          "output_type": "display_data",
          "data": {
            "text/plain": [
              "<Figure size 640x480 with 1 Axes>"
            ],
            "image/png": "[encoded data removed]"
          },
          "metadata": {}
        }
      ]
    }
  ]
}